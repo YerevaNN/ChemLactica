{
 "cells": [
  {
   "cell_type": "code",
   "execution_count": 1,
   "metadata": {},
   "outputs": [
    {
     "name": "stderr",
     "output_type": "stream",
     "text": [
      "/auto/home/menuab/miniforge3/envs/gemma_env_new/lib/python3.10/site-packages/tqdm/auto.py:21: TqdmWarning: IProgress not found. Please update jupyter and ipywidgets. See https://ipywidgets.readthedocs.io/en/stable/user_install.html\n",
      "  from .autonotebook import tqdm as notebook_tqdm\n"
     ]
    }
   ],
   "source": [
    "from trl import SFTTrainer, DataCollatorForCompletionOnlyLM\n",
    "import torch\n",
    "from transformers import OPTForCausalLM, AutoModelForCausalLM, AutoTokenizer\n",
    "\n",
    "from datasets import load_dataset\n",
    "from datasets.iterable_dataset import IterableDataset\n",
    "from transformers import OPTForCausalLM\n",
    "from chemlactica.utils.model_utils import load_model\n",
    "from chemlactica.utils.utils import get_tokenizer\n",
    "import scipy\n",
    "import numpy as np\n",
    "import numpy\n",
    "import gc\n",
    "\n",
    "import random\n",
    "from sklearn.metrics import root_mean_squared_error\n",
    "from rdkit import Chem\n",
    "from sklearn.metrics import roc_auc_score\n"
   ]
  },
  {
   "cell_type": "code",
   "execution_count": 2,
   "metadata": {},
   "outputs": [],
   "source": [
    "torch.manual_seed(42)\n",
    "random.seed(42)\n",
    "numpy.random.seed(42)"
   ]
  },
  {
   "cell_type": "code",
   "execution_count": 3,
   "metadata": {},
   "outputs": [
    {
     "name": "stderr",
     "output_type": "stream",
     "text": [
      "Special tokens have been added in the vocabulary, make sure the associated word embeddings are fine-tuned or trained.\n"
     ]
    },
    {
     "data": {
      "text/plain": [
       "(50066, 256000, 50000)"
      ]
     },
     "execution_count": 3,
     "metadata": {},
     "output_type": "execute_result"
    }
   ],
   "source": [
    "chemlactica_tokenizer = AutoTokenizer.from_pretrained(\"/auto/home/menuab/code/ChemLactica/chemlactica/tokenizer/ChemLacticaTokenizer66\")\n",
    "chemma_tokenizer = AutoTokenizer.from_pretrained(\"/auto/home/menuab/code/ChemLactica/chemlactica/tokenizer/GemmaTokenizer\")\n",
    "galactica_tokenizer = AutoTokenizer.from_pretrained(\"facebook/galactica-125m\")\n",
    "len(chemlactica_tokenizer), len(chemma_tokenizer), len(galactica_tokenizer)"
   ]
  },
  {
   "cell_type": "code",
   "execution_count": 5,
   "metadata": {},
   "outputs": [
    {
     "data": {
      "text/plain": [
       "(device(type='cuda', index=0), torch.float32)"
      ]
     },
     "execution_count": 5,
     "metadata": {},
     "output_type": "execute_result"
    }
   ],
   "source": [
    "model_125m_18k_1f28 = \"/nfs/ap/mnt/sxtn2/chem/experiments/checkpoints/galactica-125m/1f289ff103034364bd27e1c3/6f2dbee5a74548b9ad509462\"\n",
    "chemlactcia_model = AutoModelForCausalLM.from_pretrained(\n",
    "    model_125m_18k_1f28 + \"/last\").to(\"cuda:0\").eval()\n",
    "chemlactcia_model.device, chemlactcia_model.dtype"
   ]
  },
  {
   "cell_type": "code",
   "execution_count": 6,
   "metadata": {},
   "outputs": [],
   "source": [
    "data = [\n",
    "    '[H]c1c(c(c(c(c1[H])Cl)C(=O)N([H])c2c(c(nc(c2[H])N([H])C(=O)C([H])([H])[H])[H])[H])Cl)[H]',\n",
    "    '[H]c1c(c(c(c(c1[H])Cl)C(=O)N([H])c2c(c(nc(c2[H])N([H])C(=O)C([H])(C([H])([H])[H])C([H])([H])[H])[H])[H])Cl)[H]',\n",
    "    '[H]c1c(c(c(c(c1[H])Cl)C(=O)N([H])c2c(c(nc(c2[H])N([H])C(=O)C([H])([H])C3(C(C3([H])[H])([H])[H])[H])[H])[H])Cl)[H]',\n",
    "    '[H]c1c(c(c(c(c1[H])Cl)C(=O)N([H])c2c(c(nc(c2[H])N([H])C(=O)C3(C(C3([H])[H])([H])[H])[H])[H])[H])Cl)[H]',\n",
    "    '[H]c1c(c(c(c(c1[H])Cl)C(=O)N([H])c2c(c(nc(c2[H])N([H])C(=O)C3(C(C(C(C3([H])[H])([H])[H])([H])[H])([H])[H])[H])[H])[H])Cl)[H]',\n",
    "    '[H]c1c(c(c(c(c1[H])Cl)C(=O)N([H])c2c(c(nc(c2[H])N([H])C(=O)C([H])([H])O[H])[H])[H])Cl)[H]',\n",
    "    '[H]c1c(c(c(c(c1[H])Cl)C(=O)N([H])c2c(c(nc(c2[H])N([H])C(=O)N([H])C([H])([H])C([H])([H])[H])[H])[H])Cl)[H]',\n",
    "    '[H]c1c(c(c(c(c1[H])Cl)C(=O)N([H])c2c(c(nc(c2[H])N([H])C(=O)OC([H])([H])[H])[H])[H])Cl)[H]',\n",
    "    '[H]c1c(c(c(c(c1[H])Cl)C(=O)N([H])c2c(c(nc(c2[H])N([H])C(=O)[C@@]3([C@](C3([H])[H])([H])F)[H])[H])[H])Cl)[H]',\n",
    "    '[H]c1c(c(c(c(c1[H])Cl)C(=O)N([H])c2c(c(nc(c2[H])N([H])C(=O)[C@@]3([C@](C3([H])[H])([H])Cl)[H])[H])[H])Cl)[H]'\n",
    "]"
   ]
  },
  {
   "cell_type": "code",
   "execution_count": 7,
   "metadata": {},
   "outputs": [
    {
     "data": {
      "text/plain": [
       "('CC(=O)Nc1cc(NC(=O)c2c(Cl)cccc2Cl)ccn1',\n",
       " 'c1cc(c(C(=O)Nc2cc(NC(C)=O)ncc2)c(c1)Cl)Cl',\n",
       " 'CC(=O)Nc1cc(NC(=O)c2c(Cl)cccc2Cl)ccn1',\n",
       " 'CC(=O)Nc1cc(NC(=O)c2c(Cl)cccc2Cl)ccn1',\n",
       " 'CC(=O)NC1=CC(NC(=O)C2=C(Cl)C=CC=C2Cl)=CC=N1',\n",
       " 'CC(=O)NC1=CC(NC(=O)C2=C(Cl)C=CC=C2Cl)=CC=N1')"
      ]
     },
     "execution_count": 7,
     "metadata": {},
     "output_type": "execute_result"
    }
   ],
   "source": [
    "mol = Chem.MolFromSmiles('[H]c1c(c(c(c(c1[H])Cl)C(=O)N([H])c2c(c(nc(c2[H])N([H])C(=O)C([H])([H])[H])[H])[H])Cl)[H]')\n",
    "std_smiles1 = Chem.MolToSmiles(mol)\n",
    "std_smiles2 = Chem.MolToSmiles(mol, doRandom=True)\n",
    "kek_smiles = Chem.MolToSmiles(mol, kekuleSmiles=True)\n",
    "can_smiles = Chem.MolToSmiles(mol, canonical=True)\n",
    "iso_smiles = Chem.MolToSmiles(mol, isomericSmiles=True)\n",
    "kek_iso_smiles = Chem.MolToSmiles(mol, isomericSmiles=True, kekuleSmiles=True)\n",
    "(std_smiles1, std_smiles2, can_smiles, iso_smiles, kek_smiles, kek_iso_smiles)"
   ]
  },
  {
   "cell_type": "code",
   "execution_count": 20,
   "metadata": {},
   "outputs": [
    {
     "name": "stdout",
     "output_type": "stream",
     "text": [
      "CC(=O)Nc1cc(NC(=O)c2c(Cl)cccc2Cl)ccn1 CC(=O)NC1=CC(NC(=O)C2=C(Cl)C=CC=C2Cl)=CC=N1 [H]c1c(c(c(c(c1[H])Cl)C(=O)N([H])c2c(c(nc(c2[H])N([H])C(=O)C([H])([H])[H])[H])[H])Cl)[H]\n",
      "CC(=O)Nc1cc(NC(=O)c2c(Cl)cccc2Cl)ccn1 CC(=O)NC1=CC(NC(=O)C2=C(Cl)C=CC=C2Cl)=CC=N1 [H]c1c(c(c(c(c1[H])Cl)C(=O)N([H])c2c(c(nc(c2[H])N([H])C(=O)C([H])(C([H])([H])[H])C([H])([H])[H])[H])[H])Cl)[H]\n",
      "CC(=O)Nc1cc(NC(=O)c2c(Cl)cccc2Cl)ccn1 CC(=O)NC1=CC(NC(=O)C2=C(Cl)C=CC=C2Cl)=CC=N1 [H]c1c(c(c(c(c1[H])Cl)C(=O)N([H])c2c(c(nc(c2[H])N([H])C(=O)C([H])([H])C3(C(C3([H])[H])([H])[H])[H])[H])[H])Cl)[H]\n",
      "CC(=O)Nc1cc(NC(=O)c2c(Cl)cccc2Cl)ccn1 CC(=O)NC1=CC(NC(=O)C2=C(Cl)C=CC=C2Cl)=CC=N1 [H]c1c(c(c(c(c1[H])Cl)C(=O)N([H])c2c(c(nc(c2[H])N([H])C(=O)C3(C(C3([H])[H])([H])[H])[H])[H])[H])Cl)[H]\n",
      "CC(=O)Nc1cc(NC(=O)c2c(Cl)cccc2Cl)ccn1 CC(=O)NC1=CC(NC(=O)C2=C(Cl)C=CC=C2Cl)=CC=N1 [H]c1c(c(c(c(c1[H])Cl)C(=O)N([H])c2c(c(nc(c2[H])N([H])C(=O)C3(C(C(C(C3([H])[H])([H])[H])([H])[H])([H])[H])[H])[H])[H])Cl)[H]\n",
      "CC(=O)Nc1cc(NC(=O)c2c(Cl)cccc2Cl)ccn1 CC(=O)NC1=CC(NC(=O)C2=C(Cl)C=CC=C2Cl)=CC=N1 [H]c1c(c(c(c(c1[H])Cl)C(=O)N([H])c2c(c(nc(c2[H])N([H])C(=O)C([H])([H])O[H])[H])[H])Cl)[H]\n",
      "CC(=O)Nc1cc(NC(=O)c2c(Cl)cccc2Cl)ccn1 CC(=O)NC1=CC(NC(=O)C2=C(Cl)C=CC=C2Cl)=CC=N1 [H]c1c(c(c(c(c1[H])Cl)C(=O)N([H])c2c(c(nc(c2[H])N([H])C(=O)N([H])C([H])([H])C([H])([H])[H])[H])[H])Cl)[H]\n",
      "CC(=O)Nc1cc(NC(=O)c2c(Cl)cccc2Cl)ccn1 CC(=O)NC1=CC(NC(=O)C2=C(Cl)C=CC=C2Cl)=CC=N1 [H]c1c(c(c(c(c1[H])Cl)C(=O)N([H])c2c(c(nc(c2[H])N([H])C(=O)OC([H])([H])[H])[H])[H])Cl)[H]\n",
      "CC(=O)Nc1cc(NC(=O)c2c(Cl)cccc2Cl)ccn1 CC(=O)NC1=CC(NC(=O)C2=C(Cl)C=CC=C2Cl)=CC=N1 [H]c1c(c(c(c(c1[H])Cl)C(=O)N([H])c2c(c(nc(c2[H])N([H])C(=O)[C@@]3([C@](C3([H])[H])([H])F)[H])[H])[H])Cl)[H]\n",
      "CC(=O)Nc1cc(NC(=O)c2c(Cl)cccc2Cl)ccn1 CC(=O)NC1=CC(NC(=O)C2=C(Cl)C=CC=C2Cl)=CC=N1 [H]c1c(c(c(c(c1[H])Cl)C(=O)N([H])c2c(c(nc(c2[H])N([H])C(=O)[C@@]3([C@](C3([H])[H])([H])Cl)[H])[H])[H])Cl)[H]\n"
     ]
    }
   ],
   "source": [
    "for sample in data:\n",
    "    mol = Chem.MolFromSmiles('[H]c1c(c(c(c(c1[H])Cl)C(=O)N([H])c2c(c(nc(c2[H])N([H])C(=O)C([H])([H])[H])[H])[H])Cl)[H]')\n",
    "    std_smiles1 = Chem.MolToSmiles(mol)\n",
    "    kek_smiles = Chem.MolToSmiles(mol, kekuleSmiles=True)\n",
    "    print(std_smiles1, kek_smiles, sample)"
   ]
  },
  {
   "cell_type": "code",
   "execution_count": 22,
   "metadata": {},
   "outputs": [
    {
     "name": "stdout",
     "output_type": "stream",
     "text": [
      "</s>[START_SMILES]CC(=O)NC1=CC(NC(=O)C2=C(Cl)C=CC=C2Cl)=CC=N1[END_SMILES][PROPERTY]activity -1.64[/PROPERTY]\n",
      "-1.64 CC(=O)NC1=CC(NC(=O)C2=C(Cl)C=CC=C2Cl)=CC=N1\n",
      "</s>[START_SMILES]CC(C)C(=O)NC1=CC(NC(=O)C2=C(Cl)C=CC=C2Cl)=CC=N1[END_SMILES][PROPERTY]activity -1.64[/PROPERTY]\n",
      "-1.64 CC(=O)NC1=CC(NC(=O)C2=C(Cl)C=CC=C2Cl)=CC=N1\n",
      "</s>[START_SMILES]O=C(CC1CC1)NC1=CC(NC(=O)C2=C(Cl)C=CC=C2Cl)=CC=N1[END_SMILES][PROPERTY]activity -1.64[/PROPERTY]\n",
      "-1.64 CC(=O)NC1=CC(NC(=O)C2=C(Cl)C=CC=C2Cl)=CC=N1\n",
      "</s>[START_SMILES]O=C(NC1=CC=NC(NC(=O)C2CC2)=C1)C1=C(Cl)C=CC=C1Cl[END_SMILES][PROPERTY]activity -1.58[/PROPERTY]\n",
      "-1.58 CC(=O)NC1=CC(NC(=O)C2=C(Cl)C=CC=C2Cl)=CC=N1\n",
      "</s>[START_SMILES]O=C(NC1=CC=NC(NC(=O)C2CCCC2)=C1)C1=C(Cl)C=CC=C1Cl[END_SMILES][PROPERTY]activity -1.41[/PROPERTY]\n",
      "-1.41 CC(=O)NC1=CC(NC(=O)C2=C(Cl)C=CC=C2Cl)=CC=N1\n",
      "</s>[START_SMILES]O=C(CO)NC1=CC(NC(=O)C2=C(Cl)C=CC=C2Cl)=CC=N1[END_SMILES][PROPERTY]activity -1.64[/PROPERTY]\n",
      "-1.64 CC(=O)NC1=CC(NC(=O)C2=C(Cl)C=CC=C2Cl)=CC=N1\n",
      "</s>[START_SMILES]CCNC(=O)NC1=CC(NC(=O)C2=C(Cl)C=CC=C2Cl)=CC=N1[END_SMILES][PROPERTY]activity -1.64[/PROPERTY]\n",
      "-1.64 CC(=O)NC1=CC(NC(=O)C2=C(Cl)C=CC=C2Cl)=CC=N1\n",
      "</s>[START_SMILES]COC(=O)NC1=CC(NC(=O)C2=C(Cl)C=CC=C2Cl)=CC=N1[END_SMILES][PROPERTY]activity -1.64[/PROPERTY]\n",
      "-1.64 CC(=O)NC1=CC(NC(=O)C2=C(Cl)C=CC=C2Cl)=CC=N1\n",
      "</s>[START_SMILES]O=C(NC1=CC=NC(NC(=O)[C@H]2C[C@H]2F)=C1)C1=C(Cl)C=CC=C1Cl[END_SMILES][PROPERTY]activity -1.41[/PROPERTY]\n",
      "-1.41 CC(=O)NC1=CC(NC(=O)C2=C(Cl)C=CC=C2Cl)=CC=N1\n",
      "</s>[START_SMILES]O=C(NC1=CC=NC(NC(=O)[C@H]2C[C@H]2Cl)=C1)C1=C(Cl)C=CC=C1Cl[END_SMILES][PROPERTY]activity -1.41[/PROPERTY]\n",
      "-1.41 CC(=O)NC1=CC(NC(=O)C2=C(Cl)C=CC=C2Cl)=CC=N1\n"
     ]
    }
   ],
   "source": [
    "ground_truths, gens, diffs = [],[],[]\n",
    "invalids = 0\n",
    "for sample in data:\n",
    "    # ground_truth = round(sample['activity'], 2)\n",
    "    mol = Chem.MolFromSmiles(sample)\n",
    "    # std_smiles1 = Chem.MolToSmiles(mol)\n",
    "    mol = Chem.MolToSmiles(mol, kekuleSmiles=True)\n",
    "    prompt = f\"</s>[START_SMILES]{mol}[END_SMILES][PROPERTY]activity\"\n",
    "    len_prompt = len(prompt)\n",
    "    prompt = chemlactica_tokenizer(prompt, return_tensors=\"pt\").to(chemlactcia_model.device)\n",
    "    out = chemlactcia_model.generate(prompt.input_ids, do_sample=False, eos_token_id=chemlactica_tokenizer.encode('[/PROPERTY]')[0], max_new_tokens=100)\n",
    "    out = chemlactica_tokenizer.batch_decode(out)[0]\n",
    "    print(out)\n",
    "\n",
    "    gen = float(out[out.find(\"activity \") + len(\"activity \"):out.find(\"[/PROPERTY]\")])\n",
    "    print(gen, kek_smiles)"
   ]
  },
  {
   "cell_type": "code",
   "execution_count": 23,
   "metadata": {},
   "outputs": [],
   "source": [
    "out=\"</s>[START_SMILES]CC(C)C(=O)NC1=CC(NC(=O)C2=C(Cl)C=CC=C2Cl)=CC=N1[END_SMILES][PROPERTY]activity -1.64[/PROPERTY]\""
   ]
  },
  {
   "cell_type": "code",
   "execution_count": 26,
   "metadata": {},
   "outputs": [
    {
     "data": {
      "text/plain": [
       "'-1.64'"
      ]
     },
     "execution_count": 26,
     "metadata": {},
     "output_type": "execute_result"
    }
   ],
   "source": [
    "out[out.find(\"activity \") + len(\"activity \"):out.find(\"[/PROPERTY]\")]"
   ]
  },
  {
   "cell_type": "code",
   "execution_count": null,
   "metadata": {},
   "outputs": [],
   "source": []
  }
 ],
 "metadata": {
  "kernelspec": {
   "display_name": "gemma_env_new",
   "language": "python",
   "name": "python3"
  },
  "language_info": {
   "codemirror_mode": {
    "name": "ipython",
    "version": 3
   },
   "file_extension": ".py",
   "mimetype": "text/x-python",
   "name": "python",
   "nbconvert_exporter": "python",
   "pygments_lexer": "ipython3",
   "version": "3.10.14"
  }
 },
 "nbformat": 4,
 "nbformat_minor": 2
}
