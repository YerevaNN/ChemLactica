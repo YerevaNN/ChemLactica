{
 "cells": [
  {
   "cell_type": "code",
   "execution_count": 20,
   "metadata": {},
   "outputs": [
    {
     "name": "stdout",
     "output_type": "stream",
     "text": [
      "data laoded\n",
      "{'text': '\"{\\\\\"synonyms\\\\\":[{\\\\\"name\\\\\":\\\\\"p-Phenylazo carbanilic acid, n-hexyl ester\\\\\"}],\\\\\"related\\\\\":[{\\\\\"SMILES\\\\\":\\\\\"CCCCOC(=O)NC1=CC=C(C=C1)N\\\\\",\\\\\"similarity\\\\\":0.74}],\\\\\"experimental\\\\\":[],\\\\\"CID\\\\\":523129,\\\\\"SMILES\\\\\":\\\\\"CCCCCCOC(=O)NC1=CC=C(C=C1)N=NC2=CC=CC=C2\\\\\",\\\\\"SAS\\\\\":2.09,\\\\\"WEIGHT\\\\\":325.18,\\\\\"TPSA\\\\\":63.05,\\\\\"CLOGP\\\\\":6.23,\\\\\"QED\\\\\":0.46,\\\\\"NUMHDONORS\\\\\":1,\\\\\"NUMHACCEPTORS\\\\\":4,\\\\\"NUMHETEROATOMS\\\\\":5,\\\\\"NUMROTATABLEBONDS\\\\\":8,\\\\\"NOCOUNT\\\\\":5,\\\\\"NHOHCOUNT\\\\\":1,\\\\\"RINGCOUNT\\\\\":2,\\\\\"HEAVYATOMCOUNT\\\\\":24,\\\\\"FRACTIONCSP3\\\\\":0.32,\\\\\"NUMAROMATICRINGS\\\\\":2,\\\\\"NUMSATURATEDRINGS\\\\\":0,\\\\\"NUMAROMATICHETEROCYCLES\\\\\":0,\\\\\"NUMAROMATICCARBOCYCLES\\\\\":2,\\\\\"NUMSATURATEDHETEROCYCLES\\\\\":0,\\\\\"NUMSATURATEDCARBOCYCLES\\\\\":0,\\\\\"NUMALIPHATICRINGS\\\\\":0,\\\\\"NUMALIPHATICHETEROCYCLES\\\\\":0,\\\\\"NUMALIPHATICCARBOCYCLES\\\\\":0,\\\\\"IUPAC\\\\\":\\\\\"hexyl N-(4-phenyldiazenylphenyl)carbamate\\\\\"}\"'}\n",
      "<class 'dict'>\n",
      "{'synonyms': [{'name': 'p-Phenylazo carbanilic acid, n-hexyl ester'}], 'related': [{'SMILES': 'CCCCOC(=O)NC1=CC=C(C=C1)N', 'similarity': 0.74}], 'experimental': [], 'CID': 523129, 'SMILES': 'CCCCCCOC(=O)NC1=CC=C(C=C1)N=NC2=CC=CC=C2', 'SAS': 2.09, 'WEIGHT': 325.18, 'TPSA': 63.05, 'CLOGP': 6.23, 'QED': 0.46, 'NUMHDONORS': 1, 'NUMHACCEPTORS': 4, 'NUMHETEROATOMS': 5, 'NUMROTATABLEBONDS': 8, 'NOCOUNT': 5, 'NHOHCOUNT': 1, 'RINGCOUNT': 2, 'HEAVYATOMCOUNT': 24, 'FRACTIONCSP3': 0.32, 'NUMAROMATICRINGS': 2, 'NUMSATURATEDRINGS': 0, 'NUMAROMATICHETEROCYCLES': 0, 'NUMAROMATICCARBOCYCLES': 2, 'NUMSATURATEDHETEROCYCLES': 0, 'NUMSATURATEDCARBOCYCLES': 0, 'NUMALIPHATICRINGS': 0, 'NUMALIPHATICHETEROCYCLES': 0, 'NUMALIPHATICCARBOCYCLES': 0, 'IUPAC': 'hexyl N-(4-phenyldiazenylphenyl)carbamate'}\n",
      "done\n",
      "{'text': '\"{\\\\\"synonyms\\\\\":[{\\\\\"name\\\\\":\\\\\"1-Methyl-3-(beta-morpholinoethyl)-3-phenyloxindole\\\\\"}],\\\\\"related\\\\\":[{\\\\\"SMILES\\\\\":\\\\\"CCN1C2=CC=CC=C2C3(C1=O)CCN(CC3)CC4=CC=CC=C4\\\\\",\\\\\"similarity\\\\\":0.81},{\\\\\"SMILES\\\\\":\\\\\"CCC1(C2=CC=CC=C2N(C1=O)CCCN3CCOCC3)C4=CC=CC=C4.Cl\\\\\",\\\\\"similarity\\\\\":0.88},{\\\\\"SMILES\\\\\":\\\\\"CCC(=O)N(C1=CC=CC=C1)C2(CCN(CC2)CCN3C4=CC=CC=C4C5(C3=O)CC5)COC\\\\\",\\\\\"similarity\\\\\":0.81},{\\\\\"SMILES\\\\\":\\\\\"CN1C2=CC=CC=C2C3(C1=O)CCN(CC3)CCC4=CC=CC=C4.Cl\\\\\",\\\\\"similarity\\\\\":0.82},{\\\\\"SMILES\\\\\":\\\\\"CC1(C2=CC=CC=C2N(C1=O)C3CCN(CC3)CC4=CC=CC=C4)C\\\\\",\\\\\"similarity\\\\\":0.79},{\\\\\"SMILES\\\\\":\\\\\"C1COCCN1CC2=CC=C(C=C2)C3C4=CC=CC=C4NC3=O\\\\\",\\\\\"similarity\\\\\":0.89},{\\\\\"SMILES\\\\\":\\\\\"CC(=O)N1CCC2(CC1)C3=CC=CC=C3N(C2=O)C\\\\\",\\\\\"similarity\\\\\":0.8},{\\\\\"SMILES\\\\\":\\\\\"C[C@@H]1C[C@]12C3=CC=CC=C3N(C2=O)CCOC\\\\\",\\\\\"similarity\\\\\":0.76},{\\\\\"SMILES\\\\\":\\\\\"CN1C2=CC=CC=C2C3(C1=O)CCN(CC3)C(=O)C4CCCC4\\\\\",\\\\\"similarity\\\\\":0.83},{\\\\\"SMILES\\\\\":\\\\\"CCC1(C2=CC=CC=C2N(C1=O)CCCN(C)C)C3=CC=CC=C3.Cl\\\\\",\\\\\"similarity\\\\\":0.7},{\\\\\"SMILES\\\\\":\\\\\"CCCC(CCC)C1=CC=CC=C1.CCCC1(C2=CC=CC=C2N(C1=O)CCCN3CCOCC3)C4=CC=CC=C4\\\\\",\\\\\"similarity\\\\\":0.88},{\\\\\"SMILES\\\\\":\\\\\"CC1(C2=CC=CC=C2N(C1=O)CC3=CC=CC=C3)CCN4CCOCC4.Cl\\\\\",\\\\\"similarity\\\\\":0.88},{\\\\\"SMILES\\\\\":\\\\\"CC.CCC1C2=CC=CC=C2NC1=O.CC1=CC=C(C=C1)NCCN2CCOCC2\\\\\",\\\\\"similarity\\\\\":0.74}],\\\\\"experimental\\\\\":[],\\\\\"CID\\\\\":523130,\\\\\"SMILES\\\\\":\\\\\"CN1C2=CC=CC=C2C(C1=O)(CCN3CCOCC3)C4=CC=CC=C4\\\\\",\\\\\"SAS\\\\\":2.75,\\\\\"WEIGHT\\\\\":336.18,\\\\\"TPSA\\\\\":32.78,\\\\\"CLOGP\\\\\":2.67,\\\\\"QED\\\\\":0.86,\\\\\"NUMHDONORS\\\\\":0,\\\\\"NUMHACCEPTORS\\\\\":3,\\\\\"NUMHETEROATOMS\\\\\":4,\\\\\"NUMROTATABLEBONDS\\\\\":4,\\\\\"NOCOUNT\\\\\":4,\\\\\"NHOHCOUNT\\\\\":0,\\\\\"RINGCOUNT\\\\\":4,\\\\\"HEAVYATOMCOUNT\\\\\":25,\\\\\"FRACTIONCSP3\\\\\":0.38,\\\\\"NUMAROMATICRINGS\\\\\":2,\\\\\"NUMSATURATEDRINGS\\\\\":1,\\\\\"NUMAROMATICHETEROCYCLES\\\\\":0,\\\\\"NUMAROMATICCARBOCYCLES\\\\\":2,\\\\\"NUMSATURATEDHETEROCYCLES\\\\\":1,\\\\\"NUMSATURATEDCARBOCYCLES\\\\\":0,\\\\\"NUMALIPHATICRINGS\\\\\":2,\\\\\"NUMALIPHATICHETEROCYCLES\\\\\":2,\\\\\"NUMALIPHATICCARBOCYCLES\\\\\":0,\\\\\"IUPAC\\\\\":\\\\\"1-methyl-3-(2-morpholin-4-ylethyl)-3-phenylindol-2-one\\\\\"}\"'}\n",
      "<class 'dict'>\n",
      "{'synonyms': [{'name': '1-Methyl-3-(beta-morpholinoethyl)-3-phenyloxindole'}], 'related': [{'SMILES': 'CCN1C2=CC=CC=C2C3(C1=O)CCN(CC3)CC4=CC=CC=C4', 'similarity': 0.81}, {'SMILES': 'CCC1(C2=CC=CC=C2N(C1=O)CCCN3CCOCC3)C4=CC=CC=C4.Cl', 'similarity': 0.88}, {'SMILES': 'CCC(=O)N(C1=CC=CC=C1)C2(CCN(CC2)CCN3C4=CC=CC=C4C5(C3=O)CC5)COC', 'similarity': 0.81}, {'SMILES': 'CN1C2=CC=CC=C2C3(C1=O)CCN(CC3)CCC4=CC=CC=C4.Cl', 'similarity': 0.82}, {'SMILES': 'CC1(C2=CC=CC=C2N(C1=O)C3CCN(CC3)CC4=CC=CC=C4)C', 'similarity': 0.79}, {'SMILES': 'C1COCCN1CC2=CC=C(C=C2)C3C4=CC=CC=C4NC3=O', 'similarity': 0.89}, {'SMILES': 'CC(=O)N1CCC2(CC1)C3=CC=CC=C3N(C2=O)C', 'similarity': 0.8}, {'SMILES': 'C[C@@H]1C[C@]12C3=CC=CC=C3N(C2=O)CCOC', 'similarity': 0.76}, {'SMILES': 'CN1C2=CC=CC=C2C3(C1=O)CCN(CC3)C(=O)C4CCCC4', 'similarity': 0.83}, {'SMILES': 'CCC1(C2=CC=CC=C2N(C1=O)CCCN(C)C)C3=CC=CC=C3.Cl', 'similarity': 0.7}, {'SMILES': 'CCCC(CCC)C1=CC=CC=C1.CCCC1(C2=CC=CC=C2N(C1=O)CCCN3CCOCC3)C4=CC=CC=C4', 'similarity': 0.88}, {'SMILES': 'CC1(C2=CC=CC=C2N(C1=O)CC3=CC=CC=C3)CCN4CCOCC4.Cl', 'similarity': 0.88}, {'SMILES': 'CC.CCC1C2=CC=CC=C2NC1=O.CC1=CC=C(C=C1)NCCN2CCOCC2', 'similarity': 0.74}], 'experimental': [], 'CID': 523130, 'SMILES': 'CN1C2=CC=CC=C2C(C1=O)(CCN3CCOCC3)C4=CC=CC=C4', 'SAS': 2.75, 'WEIGHT': 336.18, 'TPSA': 32.78, 'CLOGP': 2.67, 'QED': 0.86, 'NUMHDONORS': 0, 'NUMHACCEPTORS': 3, 'NUMHETEROATOMS': 4, 'NUMROTATABLEBONDS': 4, 'NOCOUNT': 4, 'NHOHCOUNT': 0, 'RINGCOUNT': 4, 'HEAVYATOMCOUNT': 25, 'FRACTIONCSP3': 0.38, 'NUMAROMATICRINGS': 2, 'NUMSATURATEDRINGS': 1, 'NUMAROMATICHETEROCYCLES': 0, 'NUMAROMATICCARBOCYCLES': 2, 'NUMSATURATEDHETEROCYCLES': 1, 'NUMSATURATEDCARBOCYCLES': 0, 'NUMALIPHATICRINGS': 2, 'NUMALIPHATICHETEROCYCLES': 2, 'NUMALIPHATICCARBOCYCLES': 0, 'IUPAC': '1-methyl-3-(2-morpholin-4-ylethyl)-3-phenylindol-2-one'}\n",
      "done\n",
      "{'text': '\"{\\\\\"synonyms\\\\\":[{\\\\\"name\\\\\":\\\\\"2,3,3,3\\'-Tetrachloroacrylanilide\\\\\"}],\\\\\"related\\\\\":[{\\\\\"SMILES\\\\\":\\\\\"C1=CC=C(C(=C1)NC(=O)CCl)Cl\\\\\",\\\\\"similarity\\\\\":0.64},{\\\\\"SMILES\\\\\":\\\\\"C1=CC(=CC(=C1)Cl)NC(=O)C(Cl)(Cl)Cl\\\\\",\\\\\"similarity\\\\\":0.78},{\\\\\"SMILES\\\\\":\\\\\"C1=CC(=CC(=C1)Cl)NC(=O)C#N\\\\\",\\\\\"similarity\\\\\":0.72},{\\\\\"SMILES\\\\\":\\\\\"C1=CC(=C(C=C1NC(=O)C(=CCl)Cl)Cl)Cl\\\\\",\\\\\"similarity\\\\\":0.87}],\\\\\"experimental\\\\\":[],\\\\\"CID\\\\\":523131,\\\\\"SMILES\\\\\":\\\\\"C1=CC(=CC(=C1)Cl)NC(=O)C(=C(Cl)Cl)Cl\\\\\",\\\\\"SAS\\\\\":2.3,\\\\\"WEIGHT\\\\\":282.91,\\\\\"TPSA\\\\\":29.1,\\\\\"CLOGP\\\\\":4.16,\\\\\"QED\\\\\":0.81,\\\\\"NUMHDONORS\\\\\":1,\\\\\"NUMHACCEPTORS\\\\\":1,\\\\\"NUMHETEROATOMS\\\\\":6,\\\\\"NUMROTATABLEBONDS\\\\\":2,\\\\\"NOCOUNT\\\\\":2,\\\\\"NHOHCOUNT\\\\\":1,\\\\\"RINGCOUNT\\\\\":1,\\\\\"HEAVYATOMCOUNT\\\\\":15,\\\\\"FRACTIONCSP3\\\\\":0.0,\\\\\"NUMAROMATICRINGS\\\\\":1,\\\\\"NUMSATURATEDRINGS\\\\\":0,\\\\\"NUMAROMATICHETEROCYCLES\\\\\":0,\\\\\"NUMAROMATICCARBOCYCLES\\\\\":1,\\\\\"NUMSATURATEDHETEROCYCLES\\\\\":0,\\\\\"NUMSATURATEDCARBOCYCLES\\\\\":0,\\\\\"NUMALIPHATICRINGS\\\\\":0,\\\\\"NUMALIPHATICHETEROCYCLES\\\\\":0,\\\\\"NUMALIPHATICCARBOCYCLES\\\\\":0,\\\\\"IUPAC\\\\\":\\\\\"2,3,3-trichloro-N-(3-chlorophenyl)prop-2-enamide\\\\\"}\"'}\n",
      "<class 'dict'>\n",
      "{'synonyms': [{'name': \"2,3,3,3'-Tetrachloroacrylanilide\"}], 'related': [{'SMILES': 'C1=CC=C(C(=C1)NC(=O)CCl)Cl', 'similarity': 0.64}, {'SMILES': 'C1=CC(=CC(=C1)Cl)NC(=O)C(Cl)(Cl)Cl', 'similarity': 0.78}, {'SMILES': 'C1=CC(=CC(=C1)Cl)NC(=O)C#N', 'similarity': 0.72}, {'SMILES': 'C1=CC(=C(C=C1NC(=O)C(=CCl)Cl)Cl)Cl', 'similarity': 0.87}], 'experimental': [], 'CID': 523131, 'SMILES': 'C1=CC(=CC(=C1)Cl)NC(=O)C(=C(Cl)Cl)Cl', 'SAS': 2.3, 'WEIGHT': 282.91, 'TPSA': 29.1, 'CLOGP': 4.16, 'QED': 0.81, 'NUMHDONORS': 1, 'NUMHACCEPTORS': 1, 'NUMHETEROATOMS': 6, 'NUMROTATABLEBONDS': 2, 'NOCOUNT': 2, 'NHOHCOUNT': 1, 'RINGCOUNT': 1, 'HEAVYATOMCOUNT': 15, 'FRACTIONCSP3': 0.0, 'NUMAROMATICRINGS': 1, 'NUMSATURATEDRINGS': 0, 'NUMAROMATICHETEROCYCLES': 0, 'NUMAROMATICCARBOCYCLES': 1, 'NUMSATURATEDHETEROCYCLES': 0, 'NUMSATURATEDCARBOCYCLES': 0, 'NUMALIPHATICRINGS': 0, 'NUMALIPHATICHETEROCYCLES': 0, 'NUMALIPHATICCARBOCYCLES': 0, 'IUPAC': '2,3,3-trichloro-N-(3-chlorophenyl)prop-2-enamide'}\n",
      "done\n",
      "{'text': '\"{\\\\\"synonyms\\\\\":[{\\\\\"name\\\\\":\\\\\"3-Hydroxyestra-2,5(10)-diene-1,4,17-trione\\\\\"}],\\\\\"related\\\\\":[{\\\\\"SMILES\\\\\":\\\\\"C[C@]12CC[C@@H]3[C@H]4CCC(=CC4=CC[C@H]3[C@@H]1CCC2=O)O\\\\\",\\\\\"similarity\\\\\":0.79},{\\\\\"SMILES\\\\\":\\\\\"C[C@@H]1C[C@H]2[C@@H]3CCC4=CC(=C(C(=O)[C@@]4([C@H]3CC[C@@]2([C@H]1C(=O)C)C)C)O)O\\\\\",\\\\\"similarity\\\\\":0.88},{\\\\\"SMILES\\\\\":\\\\\"CC(=O)[C@H]1CC[C@@H]2[C@@]1(CC[C@H]3[C@H]2C(=O)C=C4[C@@]3(CCC(=C4)O)C)C\\\\\",\\\\\"similarity\\\\\":0.8},{\\\\\"SMILES\\\\\":\\\\\"C[C@]12CCC(=CC1=CC[C@@H]3[C@@H]2CC[C@]4([C@H]3CC(=C)C4=O)C)O\\\\\",\\\\\"similarity\\\\\":0.75}],\\\\\"experimental\\\\\":[],\\\\\"CID\\\\\":523132,\\\\\"SMILES\\\\\":\\\\\"CC12CCC3C(C1CCC2=O)CCC4=C3C(=CC(=O)C4=O)O\\\\\",\\\\\"SAS\\\\\":4.15,\\\\\"WEIGHT\\\\\":300.14,\\\\\"TPSA\\\\\":71.44,\\\\\"CLOGP\\\\\":2.68,\\\\\"QED\\\\\":0.55,\\\\\"NUMHDONORS\\\\\":1,\\\\\"NUMHACCEPTORS\\\\\":4,\\\\\"NUMHETEROATOMS\\\\\":4,\\\\\"NUMROTATABLEBONDS\\\\\":0,\\\\\"NOCOUNT\\\\\":4,\\\\\"NHOHCOUNT\\\\\":1,\\\\\"RINGCOUNT\\\\\":4,\\\\\"HEAVYATOMCOUNT\\\\\":22,\\\\\"FRACTIONCSP3\\\\\":0.61,\\\\\"NUMAROMATICRINGS\\\\\":0,\\\\\"NUMSATURATEDRINGS\\\\\":2,\\\\\"NUMAROMATICHETEROCYCLES\\\\\":0,\\\\\"NUMAROMATICCARBOCYCLES\\\\\":0,\\\\\"NUMSATURATEDHETEROCYCLES\\\\\":0,\\\\\"NUMSATURATEDCARBOCYCLES\\\\\":2,\\\\\"NUMALIPHATICRINGS\\\\\":4,\\\\\"NUMALIPHATICHETEROCYCLES\\\\\":0,\\\\\"NUMALIPHATICCARBOCYCLES\\\\\":4,\\\\\"IUPAC\\\\\":\\\\\"1-hydroxy-13-methyl-7,8,9,11,12,14,15,16-octahydro-6H-cyclopenta[a]phenanthrene-3,4,17-trione\\\\\"}\"'}\n",
      "<class 'dict'>\n",
      "{'synonyms': [{'name': '3-Hydroxyestra-2,5(10)-diene-1,4,17-trione'}], 'related': [{'SMILES': 'C[C@]12CC[C@@H]3[C@H]4CCC(=CC4=CC[C@H]3[C@@H]1CCC2=O)O', 'similarity': 0.79}, {'SMILES': 'C[C@@H]1C[C@H]2[C@@H]3CCC4=CC(=C(C(=O)[C@@]4([C@H]3CC[C@@]2([C@H]1C(=O)C)C)C)O)O', 'similarity': 0.88}, {'SMILES': 'CC(=O)[C@H]1CC[C@@H]2[C@@]1(CC[C@H]3[C@H]2C(=O)C=C4[C@@]3(CCC(=C4)O)C)C', 'similarity': 0.8}, {'SMILES': 'C[C@]12CCC(=CC1=CC[C@@H]3[C@@H]2CC[C@]4([C@H]3CC(=C)C4=O)C)O', 'similarity': 0.75}], 'experimental': [], 'CID': 523132, 'SMILES': 'CC12CCC3C(C1CCC2=O)CCC4=C3C(=CC(=O)C4=O)O', 'SAS': 4.15, 'WEIGHT': 300.14, 'TPSA': 71.44, 'CLOGP': 2.68, 'QED': 0.55, 'NUMHDONORS': 1, 'NUMHACCEPTORS': 4, 'NUMHETEROATOMS': 4, 'NUMROTATABLEBONDS': 0, 'NOCOUNT': 4, 'NHOHCOUNT': 1, 'RINGCOUNT': 4, 'HEAVYATOMCOUNT': 22, 'FRACTIONCSP3': 0.61, 'NUMAROMATICRINGS': 0, 'NUMSATURATEDRINGS': 2, 'NUMAROMATICHETEROCYCLES': 0, 'NUMAROMATICCARBOCYCLES': 0, 'NUMSATURATEDHETEROCYCLES': 0, 'NUMSATURATEDCARBOCYCLES': 2, 'NUMALIPHATICRINGS': 4, 'NUMALIPHATICHETEROCYCLES': 0, 'NUMALIPHATICCARBOCYCLES': 4, 'IUPAC': '1-hydroxy-13-methyl-7,8,9,11,12,14,15,16-octahydro-6H-cyclopenta[a]phenanthrene-3,4,17-trione'}\n",
      "done\n",
      "{'text': '\"{\\\\\"synonyms\\\\\":[{\\\\\"name\\\\\":\\\\\"Purine, 2-(trifluoromethyl)-\\\\\"},{\\\\\"name\\\\\":\\\\\"2-trifluoromethylpurine\\\\\"},{\\\\\"name\\\\\":\\\\\"SCHEMBL3014788\\\\\"},{\\\\\"name\\\\\":\\\\\"ZINC26506868\\\\\"},{\\\\\"name\\\\\":\\\\\"AKOS006323514\\\\\"}],\\\\\"related\\\\\":[{\\\\\"SMILES\\\\\":\\\\\"CCC1=NC=C2C(=N1)N=CN2\\\\\",\\\\\"similarity\\\\\":0.7},{\\\\\"SMILES\\\\\":\\\\\"C[N+]1=C2C(=CN=C1N)NC=N2\\\\\",\\\\\"similarity\\\\\":0.54},{\\\\\"SMILES\\\\\":\\\\\"C[N+]1=C2C(=CN=C1)NC=N2.[I-]\\\\\",\\\\\"similarity\\\\\":0.61},{\\\\\"SMILES\\\\\":\\\\\"C1=C2C(=NC(=N1)I)N=C(N2)Cl\\\\\",\\\\\"similarity\\\\\":0.83},{\\\\\"SMILES\\\\\":\\\\\"C1CCN(C1)C2=NC=C3C(=N2)N=CN3\\\\\",\\\\\"similarity\\\\\":0.51},{\\\\\"SMILES\\\\\":\\\\\"CC(C)C1=NC2=NC(=NC=C2N1)C(C)C\\\\\",\\\\\"similarity\\\\\":0.7},{\\\\\"SMILES\\\\\":\\\\\"C=C(CC1=NC=C2C(=N1)N=CN2)N\\\\\",\\\\\"similarity\\\\\":0.58},{\\\\\"SMILES\\\\\":\\\\\"CCCCC1=NC2=NC=NC=C2N1\\\\\",\\\\\"similarity\\\\\":0.57},{\\\\\"SMILES\\\\\":\\\\\"C1=C2C(=NC(=N1)CC#N)N=CN2\\\\\",\\\\\"similarity\\\\\":0.72},{\\\\\"SMILES\\\\\":\\\\\"[2H]C1=NC2=CN=CN=C2N1\\\\\",\\\\\"similarity\\\\\":0.81},{\\\\\"SMILES\\\\\":\\\\\"CC(C)C1=NC2=NC(=NC=C2N1)N.Cl\\\\\",\\\\\"similarity\\\\\":0.62},{\\\\\"SMILES\\\\\":\\\\\"C1CC1NC2=NC3=NC(=NC=C3N2)C(F)(F)F\\\\\",\\\\\"similarity\\\\\":0.68},{\\\\\"SMILES\\\\\":\\\\\"CNC1=NC2=NC(=NC=C2N1)F\\\\\",\\\\\"similarity\\\\\":0.71},{\\\\\"SMILES\\\\\":\\\\\"CNC1=NC2=NC(=NC=C2N1)Br\\\\\",\\\\\"similarity\\\\\":0.67},{\\\\\"SMILES\\\\\":\\\\\"CNC1=NC2=NC(=NC=C2N1)OC\\\\\",\\\\\"similarity\\\\\":0.49},{\\\\\"SMILES\\\\\":\\\\\"C1=C2C(=NC(=N1)N=[N+]=[N-])N=C(N2)N=[N+]=[N-]\\\\\",\\\\\"similarity\\\\\":0.59},{\\\\\"SMILES\\\\\":\\\\\"[HH].CC1=NC2=NC(=NC=C2N1)C(C)C\\\\\",\\\\\"similarity\\\\\":0.68},{\\\\\"SMILES\\\\\":\\\\\"CCC1=NC=C2C(=N1)N=CN2.[Sn]\\\\\",\\\\\"similarity\\\\\":0.64}],\\\\\"experimental\\\\\":[],\\\\\"CID\\\\\":523133,\\\\\"SMILES\\\\\":\\\\\"C1=C2C(=NC(=N1)C(F)(F)F)N=CN2\\\\\",\\\\\"SAS\\\\\":2.84,\\\\\"WEIGHT\\\\\":188.03,\\\\\"TPSA\\\\\":54.46,\\\\\"CLOGP\\\\\":1.37,\\\\\"QED\\\\\":0.68,\\\\\"NUMHDONORS\\\\\":1,\\\\\"NUMHACCEPTORS\\\\\":3,\\\\\"NUMHETEROATOMS\\\\\":7,\\\\\"NUMROTATABLEBONDS\\\\\":0,\\\\\"NOCOUNT\\\\\":4,\\\\\"NHOHCOUNT\\\\\":1,\\\\\"RINGCOUNT\\\\\":2,\\\\\"HEAVYATOMCOUNT\\\\\":13,\\\\\"FRACTIONCSP3\\\\\":0.17,\\\\\"NUMAROMATICRINGS\\\\\":2,\\\\\"NUMSATURATEDRINGS\\\\\":0,\\\\\"NUMAROMATICHETEROCYCLES\\\\\":2,\\\\\"NUMAROMATICCARBOCYCLES\\\\\":0,\\\\\"NUMSATURATEDHETEROCYCLES\\\\\":0,\\\\\"NUMSATURATEDCARBOCYCLES\\\\\":0,\\\\\"NUMALIPHATICRINGS\\\\\":0,\\\\\"NUMALIPHATICHETEROCYCLES\\\\\":0,\\\\\"NUMALIPHATICCARBOCYCLES\\\\\":0,\\\\\"IUPAC\\\\\":\\\\\"2-(trifluoromethyl)-7H-purine\\\\\"}\"'}\n",
      "<class 'dict'>\n",
      "{'synonyms': [{'name': 'Purine, 2-(trifluoromethyl)-'}, {'name': '2-trifluoromethylpurine'}, {'name': 'SCHEMBL3014788'}, {'name': 'ZINC26506868'}, {'name': 'AKOS006323514'}], 'related': [{'SMILES': 'CCC1=NC=C2C(=N1)N=CN2', 'similarity': 0.7}, {'SMILES': 'C[N+]1=C2C(=CN=C1N)NC=N2', 'similarity': 0.54}, {'SMILES': 'C[N+]1=C2C(=CN=C1)NC=N2.[I-]', 'similarity': 0.61}, {'SMILES': 'C1=C2C(=NC(=N1)I)N=C(N2)Cl', 'similarity': 0.83}, {'SMILES': 'C1CCN(C1)C2=NC=C3C(=N2)N=CN3', 'similarity': 0.51}, {'SMILES': 'CC(C)C1=NC2=NC(=NC=C2N1)C(C)C', 'similarity': 0.7}, {'SMILES': 'C=C(CC1=NC=C2C(=N1)N=CN2)N', 'similarity': 0.58}, {'SMILES': 'CCCCC1=NC2=NC=NC=C2N1', 'similarity': 0.57}, {'SMILES': 'C1=C2C(=NC(=N1)CC#N)N=CN2', 'similarity': 0.72}, {'SMILES': '[2H]C1=NC2=CN=CN=C2N1', 'similarity': 0.81}, {'SMILES': 'CC(C)C1=NC2=NC(=NC=C2N1)N.Cl', 'similarity': 0.62}, {'SMILES': 'C1CC1NC2=NC3=NC(=NC=C3N2)C(F)(F)F', 'similarity': 0.68}, {'SMILES': 'CNC1=NC2=NC(=NC=C2N1)F', 'similarity': 0.71}, {'SMILES': 'CNC1=NC2=NC(=NC=C2N1)Br', 'similarity': 0.67}, {'SMILES': 'CNC1=NC2=NC(=NC=C2N1)OC', 'similarity': 0.49}, {'SMILES': 'C1=C2C(=NC(=N1)N=[N+]=[N-])N=C(N2)N=[N+]=[N-]', 'similarity': 0.59}, {'SMILES': '[HH].CC1=NC2=NC(=NC=C2N1)C(C)C', 'similarity': 0.68}, {'SMILES': 'CCC1=NC=C2C(=N1)N=CN2.[Sn]', 'similarity': 0.64}], 'experimental': [], 'CID': 523133, 'SMILES': 'C1=C2C(=NC(=N1)C(F)(F)F)N=CN2', 'SAS': 2.84, 'WEIGHT': 188.03, 'TPSA': 54.46, 'CLOGP': 1.37, 'QED': 0.68, 'NUMHDONORS': 1, 'NUMHACCEPTORS': 3, 'NUMHETEROATOMS': 7, 'NUMROTATABLEBONDS': 0, 'NOCOUNT': 4, 'NHOHCOUNT': 1, 'RINGCOUNT': 2, 'HEAVYATOMCOUNT': 13, 'FRACTIONCSP3': 0.17, 'NUMAROMATICRINGS': 2, 'NUMSATURATEDRINGS': 0, 'NUMAROMATICHETEROCYCLES': 2, 'NUMAROMATICCARBOCYCLES': 0, 'NUMSATURATEDHETEROCYCLES': 0, 'NUMSATURATEDCARBOCYCLES': 0, 'NUMALIPHATICRINGS': 0, 'NUMALIPHATICHETEROCYCLES': 0, 'NUMALIPHATICCARBOCYCLES': 0, 'IUPAC': '2-(trifluoromethyl)-7H-purine'}\n",
      "done\n",
      "{'text': '\"{\\\\\"synonyms\\\\\":[{\\\\\"name\\\\\":\\\\\"m-Nitro carbanilic acid, n-undecyl ester\\\\\"}],\\\\\"related\\\\\":[{\\\\\"SMILES\\\\\":\\\\\"CCCCCCCCCCOC(=O)NC1=CC=C(C=C1)[N+](=O)[O-]\\\\\",\\\\\"similarity\\\\\":0.98},{\\\\\"SMILES\\\\\":\\\\\"CCCCCCCCCCCCCCCCOC(=O)NC1=CC=C(C=C1)[N+](=O)[O-]\\\\\",\\\\\"similarity\\\\\":0.98}],\\\\\"experimental\\\\\":[],\\\\\"CID\\\\\":523134,\\\\\"SMILES\\\\\":\\\\\"CCCCCCCCCCCOC(=O)NC1=CC(=CC=C1)[N+](=O)[O-]\\\\\",\\\\\"SAS\\\\\":1.96,\\\\\"WEIGHT\\\\\":336.2,\\\\\"TPSA\\\\\":81.47,\\\\\"CLOGP\\\\\":5.67,\\\\\"QED\\\\\":0.3,\\\\\"NUMHDONORS\\\\\":1,\\\\\"NUMHACCEPTORS\\\\\":4,\\\\\"NUMHETEROATOMS\\\\\":6,\\\\\"NUMROTATABLEBONDS\\\\\":12,\\\\\"NOCOUNT\\\\\":6,\\\\\"NHOHCOUNT\\\\\":1,\\\\\"RINGCOUNT\\\\\":1,\\\\\"HEAVYATOMCOUNT\\\\\":24,\\\\\"FRACTIONCSP3\\\\\":0.61,\\\\\"NUMAROMATICRINGS\\\\\":1,\\\\\"NUMSATURATEDRINGS\\\\\":0,\\\\\"NUMAROMATICHETEROCYCLES\\\\\":0,\\\\\"NUMAROMATICCARBOCYCLES\\\\\":1,\\\\\"NUMSATURATEDHETEROCYCLES\\\\\":0,\\\\\"NUMSATURATEDCARBOCYCLES\\\\\":0,\\\\\"NUMALIPHATICRINGS\\\\\":0,\\\\\"NUMALIPHATICHETEROCYCLES\\\\\":0,\\\\\"NUMALIPHATICCARBOCYCLES\\\\\":0,\\\\\"IUPAC\\\\\":\\\\\"undecyl N-(3-nitrophenyl)carbamate\\\\\"}\"'}\n",
      "<class 'dict'>\n",
      "{'synonyms': [{'name': 'm-Nitro carbanilic acid, n-undecyl ester'}], 'related': [{'SMILES': 'CCCCCCCCCCOC(=O)NC1=CC=C(C=C1)[N+](=O)[O-]', 'similarity': 0.98}, {'SMILES': 'CCCCCCCCCCCCCCCCOC(=O)NC1=CC=C(C=C1)[N+](=O)[O-]', 'similarity': 0.98}], 'experimental': [], 'CID': 523134, 'SMILES': 'CCCCCCCCCCCOC(=O)NC1=CC(=CC=C1)[N+](=O)[O-]', 'SAS': 1.96, 'WEIGHT': 336.2, 'TPSA': 81.47, 'CLOGP': 5.67, 'QED': 0.3, 'NUMHDONORS': 1, 'NUMHACCEPTORS': 4, 'NUMHETEROATOMS': 6, 'NUMROTATABLEBONDS': 12, 'NOCOUNT': 6, 'NHOHCOUNT': 1, 'RINGCOUNT': 1, 'HEAVYATOMCOUNT': 24, 'FRACTIONCSP3': 0.61, 'NUMAROMATICRINGS': 1, 'NUMSATURATEDRINGS': 0, 'NUMAROMATICHETEROCYCLES': 0, 'NUMAROMATICCARBOCYCLES': 1, 'NUMSATURATEDHETEROCYCLES': 0, 'NUMSATURATEDCARBOCYCLES': 0, 'NUMALIPHATICRINGS': 0, 'NUMALIPHATICHETEROCYCLES': 0, 'NUMALIPHATICCARBOCYCLES': 0, 'IUPAC': 'undecyl N-(3-nitrophenyl)carbamate'}\n",
      "done\n",
      "{'text': '\"{\\\\\"synonyms\\\\\":[{\\\\\"name\\\\\":\\\\\"3-Benzofurancarboxamide, n-cycloheptyl-2,3-dihydro-3-phenyl-,\\\\\"}],\\\\\"related\\\\\":[{\\\\\"SMILES\\\\\":\\\\\"C1CCC(CC1)NC(=O)C2(COC3=CC=CC=C32)C4=CC=CC=C4\\\\\",\\\\\"similarity\\\\\":0.98},{\\\\\"SMILES\\\\\":\\\\\"C1C(C2=CC=CC=C2O1)CNC(=O)CC3=CC=C(C=C3)F\\\\\",\\\\\"similarity\\\\\":0.63}],\\\\\"experimental\\\\\":[],\\\\\"CID\\\\\":523135,\\\\\"SMILES\\\\\":\\\\\"C1CCCC(CC1)NC(=O)C2(COC3=CC=CC=C32)C4=CC=CC=C4\\\\\",\\\\\"SAS\\\\\":2.86,\\\\\"WEIGHT\\\\\":335.19,\\\\\"TPSA\\\\\":38.33,\\\\\"CLOGP\\\\\":4.2,\\\\\"QED\\\\\":0.85,\\\\\"NUMHDONORS\\\\\":1,\\\\\"NUMHACCEPTORS\\\\\":2,\\\\\"NUMHETEROATOMS\\\\\":3,\\\\\"NUMROTATABLEBONDS\\\\\":3,\\\\\"NOCOUNT\\\\\":3,\\\\\"NHOHCOUNT\\\\\":1,\\\\\"RINGCOUNT\\\\\":4,\\\\\"HEAVYATOMCOUNT\\\\\":25,\\\\\"FRACTIONCSP3\\\\\":0.41,\\\\\"NUMAROMATICRINGS\\\\\":2,\\\\\"NUMSATURATEDRINGS\\\\\":1,\\\\\"NUMAROMATICHETEROCYCLES\\\\\":0,\\\\\"NUMAROMATICCARBOCYCLES\\\\\":2,\\\\\"NUMSATURATEDHETEROCYCLES\\\\\":0,\\\\\"NUMSATURATEDCARBOCYCLES\\\\\":1,\\\\\"NUMALIPHATICRINGS\\\\\":2,\\\\\"NUMALIPHATICHETEROCYCLES\\\\\":1,\\\\\"NUMALIPHATICCARBOCYCLES\\\\\":1,\\\\\"IUPAC\\\\\":\\\\\"N-cycloheptyl-3-phenyl-2H-1-benzofuran-3-carboxamide\\\\\"}\"'}\n",
      "<class 'dict'>\n",
      "{'synonyms': [{'name': '3-Benzofurancarboxamide, n-cycloheptyl-2,3-dihydro-3-phenyl-,'}], 'related': [{'SMILES': 'C1CCC(CC1)NC(=O)C2(COC3=CC=CC=C32)C4=CC=CC=C4', 'similarity': 0.98}, {'SMILES': 'C1C(C2=CC=CC=C2O1)CNC(=O)CC3=CC=C(C=C3)F', 'similarity': 0.63}], 'experimental': [], 'CID': 523135, 'SMILES': 'C1CCCC(CC1)NC(=O)C2(COC3=CC=CC=C32)C4=CC=CC=C4', 'SAS': 2.86, 'WEIGHT': 335.19, 'TPSA': 38.33, 'CLOGP': 4.2, 'QED': 0.85, 'NUMHDONORS': 1, 'NUMHACCEPTORS': 2, 'NUMHETEROATOMS': 3, 'NUMROTATABLEBONDS': 3, 'NOCOUNT': 3, 'NHOHCOUNT': 1, 'RINGCOUNT': 4, 'HEAVYATOMCOUNT': 25, 'FRACTIONCSP3': 0.41, 'NUMAROMATICRINGS': 2, 'NUMSATURATEDRINGS': 1, 'NUMAROMATICHETEROCYCLES': 0, 'NUMAROMATICCARBOCYCLES': 2, 'NUMSATURATEDHETEROCYCLES': 0, 'NUMSATURATEDCARBOCYCLES': 1, 'NUMALIPHATICRINGS': 2, 'NUMALIPHATICHETEROCYCLES': 1, 'NUMALIPHATICCARBOCYCLES': 1, 'IUPAC': 'N-cycloheptyl-3-phenyl-2H-1-benzofuran-3-carboxamide'}\n",
      "done\n",
      "{'text': '\"{\\\\\"synonyms\\\\\":[{\\\\\"name\\\\\":\\\\\"p-Phenylazo carbanilic acid, n-nonyl ester\\\\\"}],\\\\\"related\\\\\":[],\\\\\"experimental\\\\\":[],\\\\\"CID\\\\\":523136,\\\\\"SMILES\\\\\":\\\\\"CCCCCCCCCOC(=O)NC1=CC=C(C=C1)N=NC2=CC=CC=C2\\\\\",\\\\\"SAS\\\\\":2.15,\\\\\"WEIGHT\\\\\":367.23,\\\\\"TPSA\\\\\":63.05,\\\\\"CLOGP\\\\\":7.4,\\\\\"QED\\\\\":0.33,\\\\\"NUMHDONORS\\\\\":1,\\\\\"NUMHACCEPTORS\\\\\":4,\\\\\"NUMHETEROATOMS\\\\\":5,\\\\\"NUMROTATABLEBONDS\\\\\":11,\\\\\"NOCOUNT\\\\\":5,\\\\\"NHOHCOUNT\\\\\":1,\\\\\"RINGCOUNT\\\\\":2,\\\\\"HEAVYATOMCOUNT\\\\\":27,\\\\\"FRACTIONCSP3\\\\\":0.41,\\\\\"NUMAROMATICRINGS\\\\\":2,\\\\\"NUMSATURATEDRINGS\\\\\":0,\\\\\"NUMAROMATICHETEROCYCLES\\\\\":0,\\\\\"NUMAROMATICCARBOCYCLES\\\\\":2,\\\\\"NUMSATURATEDHETEROCYCLES\\\\\":0,\\\\\"NUMSATURATEDCARBOCYCLES\\\\\":0,\\\\\"NUMALIPHATICRINGS\\\\\":0,\\\\\"NUMALIPHATICHETEROCYCLES\\\\\":0,\\\\\"NUMALIPHATICCARBOCYCLES\\\\\":0,\\\\\"IUPAC\\\\\":\\\\\"nonyl N-(4-phenyldiazenylphenyl)carbamate\\\\\"}\"'}\n",
      "<class 'dict'>\n",
      "{'synonyms': [{'name': 'p-Phenylazo carbanilic acid, n-nonyl ester'}], 'related': [], 'experimental': [], 'CID': 523136, 'SMILES': 'CCCCCCCCCOC(=O)NC1=CC=C(C=C1)N=NC2=CC=CC=C2', 'SAS': 2.15, 'WEIGHT': 367.23, 'TPSA': 63.05, 'CLOGP': 7.4, 'QED': 0.33, 'NUMHDONORS': 1, 'NUMHACCEPTORS': 4, 'NUMHETEROATOMS': 5, 'NUMROTATABLEBONDS': 11, 'NOCOUNT': 5, 'NHOHCOUNT': 1, 'RINGCOUNT': 2, 'HEAVYATOMCOUNT': 27, 'FRACTIONCSP3': 0.41, 'NUMAROMATICRINGS': 2, 'NUMSATURATEDRINGS': 0, 'NUMAROMATICHETEROCYCLES': 0, 'NUMAROMATICCARBOCYCLES': 2, 'NUMSATURATEDHETEROCYCLES': 0, 'NUMSATURATEDCARBOCYCLES': 0, 'NUMALIPHATICRINGS': 0, 'NUMALIPHATICHETEROCYCLES': 0, 'NUMALIPHATICCARBOCYCLES': 0, 'IUPAC': 'nonyl N-(4-phenyldiazenylphenyl)carbamate'}\n",
      "done\n",
      "{'text': '\"{\\\\\"synonyms\\\\\":[{\\\\\"name\\\\\":\\\\\"3-[Bis(4-methoxyphenyl)amino]-2-benzofuran-1(3h)-one\\\\\"}],\\\\\"related\\\\\":[{\\\\\"SMILES\\\\\":\\\\\"COC1=CC=C(C=C1)N(C2C3=CC=CC=C3C(=O)O2)C4=CC=C(C=C4)N(C5C6=CC=CC=C6C(=O)O5)C7=CC=CC=C7\\\\\",\\\\\"similarity\\\\\":0.9},{\\\\\"SMILES\\\\\":\\\\\"CC1=CC=C(C=C1)N(CC2=CC=C(C=C2)OC)C3C4=CC=CC=C4C(=O)O3\\\\\",\\\\\"similarity\\\\\":0.9}],\\\\\"experimental\\\\\":[],\\\\\"CID\\\\\":523137,\\\\\"SMILES\\\\\":\\\\\"COC1=CC=C(C=C1)N(C2C3=CC=CC=C3C(=O)O2)C4=CC=C(C=C4)OC\\\\\",\\\\\"SAS\\\\\":2.77,\\\\\"WEIGHT\\\\\":361.13,\\\\\"TPSA\\\\\":48.0,\\\\\"CLOGP\\\\\":4.71,\\\\\"QED\\\\\":0.62,\\\\\"NUMHDONORS\\\\\":0,\\\\\"NUMHACCEPTORS\\\\\":5,\\\\\"NUMHETEROATOMS\\\\\":5,\\\\\"NUMROTATABLEBONDS\\\\\":5,\\\\\"NOCOUNT\\\\\":5,\\\\\"NHOHCOUNT\\\\\":0,\\\\\"RINGCOUNT\\\\\":4,\\\\\"HEAVYATOMCOUNT\\\\\":27,\\\\\"FRACTIONCSP3\\\\\":0.14,\\\\\"NUMAROMATICRINGS\\\\\":3,\\\\\"NUMSATURATEDRINGS\\\\\":0,\\\\\"NUMAROMATICHETEROCYCLES\\\\\":0,\\\\\"NUMAROMATICCARBOCYCLES\\\\\":3,\\\\\"NUMSATURATEDHETEROCYCLES\\\\\":0,\\\\\"NUMSATURATEDCARBOCYCLES\\\\\":0,\\\\\"NUMALIPHATICRINGS\\\\\":1,\\\\\"NUMALIPHATICHETEROCYCLES\\\\\":1,\\\\\"NUMALIPHATICCARBOCYCLES\\\\\":0,\\\\\"IUPAC\\\\\":\\\\\"3-(4-methoxy-N-(4-methoxyphenyl)anilino)-3H-2-benzofuran-1-one\\\\\"}\"'}\n",
      "<class 'dict'>\n",
      "{'synonyms': [{'name': '3-[Bis(4-methoxyphenyl)amino]-2-benzofuran-1(3h)-one'}], 'related': [{'SMILES': 'COC1=CC=C(C=C1)N(C2C3=CC=CC=C3C(=O)O2)C4=CC=C(C=C4)N(C5C6=CC=CC=C6C(=O)O5)C7=CC=CC=C7', 'similarity': 0.9}, {'SMILES': 'CC1=CC=C(C=C1)N(CC2=CC=C(C=C2)OC)C3C4=CC=CC=C4C(=O)O3', 'similarity': 0.9}], 'experimental': [], 'CID': 523137, 'SMILES': 'COC1=CC=C(C=C1)N(C2C3=CC=CC=C3C(=O)O2)C4=CC=C(C=C4)OC', 'SAS': 2.77, 'WEIGHT': 361.13, 'TPSA': 48.0, 'CLOGP': 4.71, 'QED': 0.62, 'NUMHDONORS': 0, 'NUMHACCEPTORS': 5, 'NUMHETEROATOMS': 5, 'NUMROTATABLEBONDS': 5, 'NOCOUNT': 5, 'NHOHCOUNT': 0, 'RINGCOUNT': 4, 'HEAVYATOMCOUNT': 27, 'FRACTIONCSP3': 0.14, 'NUMAROMATICRINGS': 3, 'NUMSATURATEDRINGS': 0, 'NUMAROMATICHETEROCYCLES': 0, 'NUMAROMATICCARBOCYCLES': 3, 'NUMSATURATEDHETEROCYCLES': 0, 'NUMSATURATEDCARBOCYCLES': 0, 'NUMALIPHATICRINGS': 1, 'NUMALIPHATICHETEROCYCLES': 1, 'NUMALIPHATICCARBOCYCLES': 0, 'IUPAC': '3-(4-methoxy-N-(4-methoxyphenyl)anilino)-3H-2-benzofuran-1-one'}\n",
      "done\n",
      "{'text': '\"{\\\\\"synonyms\\\\\":[{\\\\\"name\\\\\":\\\\\"3-(Beta-methoxyethyl)-3-phenyl-2-benzofuranone\\\\\"}],\\\\\"related\\\\\":[{\\\\\"SMILES\\\\\":\\\\\"CC1=CC(=C(C=C1)OC(=O)C)C2C3=CC(=CC(=C3OC2=O)C)C\\\\\",\\\\\"similarity\\\\\":0.62},{\\\\\"SMILES\\\\\":\\\\\"C=CCCCC1(C2=CC=CC=C2OC1=O)C3=CC=CC=C3\\\\\",\\\\\"similarity\\\\\":0.7},{\\\\\"SMILES\\\\\":\\\\\"COC1=CC=C(C=C1)CC2C3=CC=CC=C3OC2=O\\\\\",\\\\\"similarity\\\\\":0.71},{\\\\\"SMILES\\\\\":\\\\\"CCCCCC(=O)OC1=C(C=C(C=C1C(C)(C)C)C)CC2=C3C(=CC(=C2)C)C(CO3)(C)C\\\\\",\\\\\"similarity\\\\\":0.78},{\\\\\"SMILES\\\\\":\\\\\"CCC(CC1=CC=CC=C1OC)(C2=CC=CC=C2)C(=O)OCC\\\\\",\\\\\"similarity\\\\\":0.6},{\\\\\"SMILES\\\\\":\\\\\"CCCC1(C2=CC=CC=C2OC1=O)CC(=O)OCC3=CC=CC=C3\\\\\",\\\\\"similarity\\\\\":0.79},{\\\\\"SMILES\\\\\":\\\\\"CC(C)(C)C1(C2=CC=CC=C2OC1=O)C3=CC=C(C=C3)F\\\\\",\\\\\"similarity\\\\\":0.58},{\\\\\"SMILES\\\\\":\\\\\"CC1=CC=C(C=C1)[C@H]2[C@]3(C2(C)C)C4=CC=CC=C4OC3=O\\\\\",\\\\\"similarity\\\\\":0.62},{\\\\\"SMILES\\\\\":\\\\\"COC(=O)C1(C2=CC=CC=C2OC1=O)C3=CC=CC=C3\\\\\",\\\\\"similarity\\\\\":0.71},{\\\\\"SMILES\\\\\":\\\\\"CCCC1(C2=CC=CC=C2OC1=O)CC\\\\\",\\\\\"similarity\\\\\":0.67},{\\\\\"SMILES\\\\\":\\\\\"CC.CC(=C(/C(=C\\\\\\\\\\\\\\\\C=C)/C1=CC(=CC2=C1OCC2)COC3=CC=CC=C3CC(=O)OF)F)C\\\\\",\\\\\"similarity\\\\\":0.56},{\\\\\"SMILES\\\\\":\\\\\"CC1=CC2=C(C(=C1)C(C)(C)C)OC(=O)[C@H]2C3=CC=C(C=C3)OC\\\\\",\\\\\"similarity\\\\\":0.71}],\\\\\"experimental\\\\\":[],\\\\\"CID\\\\\":523139,\\\\\"SMILES\\\\\":\\\\\"COCCC1(C2=CC=CC=C2OC1=O)C3=CC=CC=C3\\\\\",\\\\\"SAS\\\\\":2.93,\\\\\"WEIGHT\\\\\":268.11,\\\\\"TPSA\\\\\":35.53,\\\\\"CLOGP\\\\\":2.93,\\\\\"QED\\\\\":0.63,\\\\\"NUMHDONORS\\\\\":0,\\\\\"NUMHACCEPTORS\\\\\":3,\\\\\"NUMHETEROATOMS\\\\\":3,\\\\\"NUMROTATABLEBONDS\\\\\":4,\\\\\"NOCOUNT\\\\\":3,\\\\\"NHOHCOUNT\\\\\":0,\\\\\"RINGCOUNT\\\\\":3,\\\\\"HEAVYATOMCOUNT\\\\\":20,\\\\\"FRACTIONCSP3\\\\\":0.24,\\\\\"NUMAROMATICRINGS\\\\\":2,\\\\\"NUMSATURATEDRINGS\\\\\":0,\\\\\"NUMAROMATICHETEROCYCLES\\\\\":0,\\\\\"NUMAROMATICCARBOCYCLES\\\\\":2,\\\\\"NUMSATURATEDHETEROCYCLES\\\\\":0,\\\\\"NUMSATURATEDCARBOCYCLES\\\\\":0,\\\\\"NUMALIPHATICRINGS\\\\\":1,\\\\\"NUMALIPHATICHETEROCYCLES\\\\\":1,\\\\\"NUMALIPHATICCARBOCYCLES\\\\\":0,\\\\\"IUPAC\\\\\":\\\\\"3-(2-methoxyethyl)-3-phenyl-1-benzofuran-2-one\\\\\"}\"'}\n",
      "<class 'dict'>\n",
      "{'synonyms': [{'name': '3-(Beta-methoxyethyl)-3-phenyl-2-benzofuranone'}], 'related': [{'SMILES': 'CC1=CC(=C(C=C1)OC(=O)C)C2C3=CC(=CC(=C3OC2=O)C)C', 'similarity': 0.62}, {'SMILES': 'C=CCCCC1(C2=CC=CC=C2OC1=O)C3=CC=CC=C3', 'similarity': 0.7}, {'SMILES': 'COC1=CC=C(C=C1)CC2C3=CC=CC=C3OC2=O', 'similarity': 0.71}, {'SMILES': 'CCCCCC(=O)OC1=C(C=C(C=C1C(C)(C)C)C)CC2=C3C(=CC(=C2)C)C(CO3)(C)C', 'similarity': 0.78}, {'SMILES': 'CCC(CC1=CC=CC=C1OC)(C2=CC=CC=C2)C(=O)OCC', 'similarity': 0.6}, {'SMILES': 'CCCC1(C2=CC=CC=C2OC1=O)CC(=O)OCC3=CC=CC=C3', 'similarity': 0.79}, {'SMILES': 'CC(C)(C)C1(C2=CC=CC=C2OC1=O)C3=CC=C(C=C3)F', 'similarity': 0.58}, {'SMILES': 'CC1=CC=C(C=C1)[C@H]2[C@]3(C2(C)C)C4=CC=CC=C4OC3=O', 'similarity': 0.62}, {'SMILES': 'COC(=O)C1(C2=CC=CC=C2OC1=O)C3=CC=CC=C3', 'similarity': 0.71}, {'SMILES': 'CCCC1(C2=CC=CC=C2OC1=O)CC', 'similarity': 0.67}, {'SMILES': 'CC.CC(=C(/C(=C\\\\C=C)/C1=CC(=CC2=C1OCC2)COC3=CC=CC=C3CC(=O)OF)F)C', 'similarity': 0.56}, {'SMILES': 'CC1=CC2=C(C(=C1)C(C)(C)C)OC(=O)[C@H]2C3=CC=C(C=C3)OC', 'similarity': 0.71}], 'experimental': [], 'CID': 523139, 'SMILES': 'COCCC1(C2=CC=CC=C2OC1=O)C3=CC=CC=C3', 'SAS': 2.93, 'WEIGHT': 268.11, 'TPSA': 35.53, 'CLOGP': 2.93, 'QED': 0.63, 'NUMHDONORS': 0, 'NUMHACCEPTORS': 3, 'NUMHETEROATOMS': 3, 'NUMROTATABLEBONDS': 4, 'NOCOUNT': 3, 'NHOHCOUNT': 0, 'RINGCOUNT': 3, 'HEAVYATOMCOUNT': 20, 'FRACTIONCSP3': 0.24, 'NUMAROMATICRINGS': 2, 'NUMSATURATEDRINGS': 0, 'NUMAROMATICHETEROCYCLES': 0, 'NUMAROMATICCARBOCYCLES': 2, 'NUMSATURATEDHETEROCYCLES': 0, 'NUMSATURATEDCARBOCYCLES': 0, 'NUMALIPHATICRINGS': 1, 'NUMALIPHATICHETEROCYCLES': 1, 'NUMALIPHATICCARBOCYCLES': 0, 'IUPAC': '3-(2-methoxyethyl)-3-phenyl-1-benzofuran-2-one'}\n",
      "done\n",
      "{'text': '\"{\\\\\"synonyms\\\\\":[{\\\\\"name\\\\\":\\\\\"2,2\\'-Dithio bis 4-(n-heptylsulfonylmethyl) thiazole\\\\\"}],\\\\\"related\\\\\":[],\\\\\"experimental\\\\\":[],\\\\\"CID\\\\\":523140,\\\\\"SMILES\\\\\":\\\\\"CCCCCCCS(=O)(=O)CC1=CSC(=N1)SSC2=NC(=CS2)CS(=O)(=O)CCCCCCC\\\\\",\\\\\"SAS\\\\\":3.18,\\\\\"WEIGHT\\\\\":584.1,\\\\\"TPSA\\\\\":94.06,\\\\\"CLOGP\\\\\":7.17,\\\\\"QED\\\\\":0.13,\\\\\"NUMHDONORS\\\\\":0,\\\\\"NUMHACCEPTORS\\\\\":10,\\\\\"NUMHETEROATOMS\\\\\":12,\\\\\"NUMROTATABLEBONDS\\\\\":19,\\\\\"NOCOUNT\\\\\":6,\\\\\"NHOHCOUNT\\\\\":0,\\\\\"RINGCOUNT\\\\\":2,\\\\\"HEAVYATOMCOUNT\\\\\":34,\\\\\"FRACTIONCSP3\\\\\":0.73,\\\\\"NUMAROMATICRINGS\\\\\":2,\\\\\"NUMSATURATEDRINGS\\\\\":0,\\\\\"NUMAROMATICHETEROCYCLES\\\\\":2,\\\\\"NUMAROMATICCARBOCYCLES\\\\\":0,\\\\\"NUMSATURATEDHETEROCYCLES\\\\\":0,\\\\\"NUMSATURATEDCARBOCYCLES\\\\\":0,\\\\\"NUMALIPHATICRINGS\\\\\":0,\\\\\"NUMALIPHATICHETEROCYCLES\\\\\":0,\\\\\"NUMALIPHATICCARBOCYCLES\\\\\":0,\\\\\"IUPAC\\\\\":\\\\\"4-(heptylsulfonylmethyl)-2-[[4-(heptylsulfonylmethyl)-1,3-thiazol-2-yl]disulfanyl]-1,3-thiazole\\\\\"}\"'}\n",
      "<class 'dict'>\n",
      "{'synonyms': [{'name': \"2,2'-Dithio bis 4-(n-heptylsulfonylmethyl) thiazole\"}], 'related': [], 'experimental': [], 'CID': 523140, 'SMILES': 'CCCCCCCS(=O)(=O)CC1=CSC(=N1)SSC2=NC(=CS2)CS(=O)(=O)CCCCCCC', 'SAS': 3.18, 'WEIGHT': 584.1, 'TPSA': 94.06, 'CLOGP': 7.17, 'QED': 0.13, 'NUMHDONORS': 0, 'NUMHACCEPTORS': 10, 'NUMHETEROATOMS': 12, 'NUMROTATABLEBONDS': 19, 'NOCOUNT': 6, 'NHOHCOUNT': 0, 'RINGCOUNT': 2, 'HEAVYATOMCOUNT': 34, 'FRACTIONCSP3': 0.73, 'NUMAROMATICRINGS': 2, 'NUMSATURATEDRINGS': 0, 'NUMAROMATICHETEROCYCLES': 2, 'NUMAROMATICCARBOCYCLES': 0, 'NUMSATURATEDHETEROCYCLES': 0, 'NUMSATURATEDCARBOCYCLES': 0, 'NUMALIPHATICRINGS': 0, 'NUMALIPHATICHETEROCYCLES': 0, 'NUMALIPHATICCARBOCYCLES': 0, 'IUPAC': '4-(heptylsulfonylmethyl)-2-[[4-(heptylsulfonylmethyl)-1,3-thiazol-2-yl]disulfanyl]-1,3-thiazole'}\n",
      "done\n",
      "{'text': '\"{\\\\\"synonyms\\\\\":[{\\\\\"name\\\\\":\\\\\"p-Phenylazo carbanilic acid, n-octyl ester\\\\\"}],\\\\\"related\\\\\":[{\\\\\"SMILES\\\\\":\\\\\"CC(CCCCCOC(=O)NC1=CC=CC=C1)OC(=O)NC2=CC=CC=C2\\\\\",\\\\\"similarity\\\\\":0.78}],\\\\\"experimental\\\\\":[],\\\\\"CID\\\\\":523141,\\\\\"SMILES\\\\\":\\\\\"CCCCCCCCOC(=O)NC1=CC=C(C=C1)N=NC2=CC=CC=C2\\\\\",\\\\\"SAS\\\\\":2.13,\\\\\"WEIGHT\\\\\":353.21,\\\\\"TPSA\\\\\":63.05,\\\\\"CLOGP\\\\\":7.01,\\\\\"QED\\\\\":0.37,\\\\\"NUMHDONORS\\\\\":1,\\\\\"NUMHACCEPTORS\\\\\":4,\\\\\"NUMHETEROATOMS\\\\\":5,\\\\\"NUMROTATABLEBONDS\\\\\":10,\\\\\"NOCOUNT\\\\\":5,\\\\\"NHOHCOUNT\\\\\":1,\\\\\"RINGCOUNT\\\\\":2,\\\\\"HEAVYATOMCOUNT\\\\\":26,\\\\\"FRACTIONCSP3\\\\\":0.38,\\\\\"NUMAROMATICRINGS\\\\\":2,\\\\\"NUMSATURATEDRINGS\\\\\":0,\\\\\"NUMAROMATICHETEROCYCLES\\\\\":0,\\\\\"NUMAROMATICCARBOCYCLES\\\\\":2,\\\\\"NUMSATURATEDHETEROCYCLES\\\\\":0,\\\\\"NUMSATURATEDCARBOCYCLES\\\\\":0,\\\\\"NUMALIPHATICRINGS\\\\\":0,\\\\\"NUMALIPHATICHETEROCYCLES\\\\\":0,\\\\\"NUMALIPHATICCARBOCYCLES\\\\\":0,\\\\\"IUPAC\\\\\":\\\\\"octyl N-(4-phenyldiazenylphenyl)carbamate\\\\\"}\"'}\n",
      "<class 'dict'>\n",
      "{'synonyms': [{'name': 'p-Phenylazo carbanilic acid, n-octyl ester'}], 'related': [{'SMILES': 'CC(CCCCCOC(=O)NC1=CC=CC=C1)OC(=O)NC2=CC=CC=C2', 'similarity': 0.78}], 'experimental': [], 'CID': 523141, 'SMILES': 'CCCCCCCCOC(=O)NC1=CC=C(C=C1)N=NC2=CC=CC=C2', 'SAS': 2.13, 'WEIGHT': 353.21, 'TPSA': 63.05, 'CLOGP': 7.01, 'QED': 0.37, 'NUMHDONORS': 1, 'NUMHACCEPTORS': 4, 'NUMHETEROATOMS': 5, 'NUMROTATABLEBONDS': 10, 'NOCOUNT': 5, 'NHOHCOUNT': 1, 'RINGCOUNT': 2, 'HEAVYATOMCOUNT': 26, 'FRACTIONCSP3': 0.38, 'NUMAROMATICRINGS': 2, 'NUMSATURATEDRINGS': 0, 'NUMAROMATICHETEROCYCLES': 0, 'NUMAROMATICCARBOCYCLES': 2, 'NUMSATURATEDHETEROCYCLES': 0, 'NUMSATURATEDCARBOCYCLES': 0, 'NUMALIPHATICRINGS': 0, 'NUMALIPHATICHETEROCYCLES': 0, 'NUMALIPHATICCARBOCYCLES': 0, 'IUPAC': 'octyl N-(4-phenyldiazenylphenyl)carbamate'}\n",
      "done\n",
      "{'text': '\"{\\\\\"synonyms\\\\\":[{\\\\\"name\\\\\":\\\\\"p-Phenylazo carbanilic acid, n-decyl ester\\\\\"}],\\\\\"related\\\\\":[{\\\\\"SMILES\\\\\":\\\\\"CCCCCCCOC(=O)NC1=CC=C(C=C1)NC(=O)OCCCCCCC\\\\\",\\\\\"similarity\\\\\":0.74},{\\\\\"SMILES\\\\\":\\\\\"CCCCCCCCCCCCOC(=O)NC1=CC=CC=C1\\\\\",\\\\\"similarity\\\\\":0.83}],\\\\\"experimental\\\\\":[],\\\\\"CID\\\\\":523142,\\\\\"SMILES\\\\\":\\\\\"CCCCCCCCCCOC(=O)NC1=CC=C(C=C1)N=NC2=CC=CC=C2\\\\\",\\\\\"SAS\\\\\":2.17,\\\\\"WEIGHT\\\\\":381.24,\\\\\"TPSA\\\\\":63.05,\\\\\"CLOGP\\\\\":7.79,\\\\\"QED\\\\\":0.3,\\\\\"NUMHDONORS\\\\\":1,\\\\\"NUMHACCEPTORS\\\\\":4,\\\\\"NUMHETEROATOMS\\\\\":5,\\\\\"NUMROTATABLEBONDS\\\\\":12,\\\\\"NOCOUNT\\\\\":5,\\\\\"NHOHCOUNT\\\\\":1,\\\\\"RINGCOUNT\\\\\":2,\\\\\"HEAVYATOMCOUNT\\\\\":28,\\\\\"FRACTIONCSP3\\\\\":0.43,\\\\\"NUMAROMATICRINGS\\\\\":2,\\\\\"NUMSATURATEDRINGS\\\\\":0,\\\\\"NUMAROMATICHETEROCYCLES\\\\\":0,\\\\\"NUMAROMATICCARBOCYCLES\\\\\":2,\\\\\"NUMSATURATEDHETEROCYCLES\\\\\":0,\\\\\"NUMSATURATEDCARBOCYCLES\\\\\":0,\\\\\"NUMALIPHATICRINGS\\\\\":0,\\\\\"NUMALIPHATICHETEROCYCLES\\\\\":0,\\\\\"NUMALIPHATICCARBOCYCLES\\\\\":0,\\\\\"IUPAC\\\\\":\\\\\"decyl N-(4-phenyldiazenylphenyl)carbamate\\\\\"}\"'}\n",
      "<class 'dict'>\n",
      "{'synonyms': [{'name': 'p-Phenylazo carbanilic acid, n-decyl ester'}], 'related': [{'SMILES': 'CCCCCCCOC(=O)NC1=CC=C(C=C1)NC(=O)OCCCCCCC', 'similarity': 0.74}, {'SMILES': 'CCCCCCCCCCCCOC(=O)NC1=CC=CC=C1', 'similarity': 0.83}], 'experimental': [], 'CID': 523142, 'SMILES': 'CCCCCCCCCCOC(=O)NC1=CC=C(C=C1)N=NC2=CC=CC=C2', 'SAS': 2.17, 'WEIGHT': 381.24, 'TPSA': 63.05, 'CLOGP': 7.79, 'QED': 0.3, 'NUMHDONORS': 1, 'NUMHACCEPTORS': 4, 'NUMHETEROATOMS': 5, 'NUMROTATABLEBONDS': 12, 'NOCOUNT': 5, 'NHOHCOUNT': 1, 'RINGCOUNT': 2, 'HEAVYATOMCOUNT': 28, 'FRACTIONCSP3': 0.43, 'NUMAROMATICRINGS': 2, 'NUMSATURATEDRINGS': 0, 'NUMAROMATICHETEROCYCLES': 0, 'NUMAROMATICCARBOCYCLES': 2, 'NUMSATURATEDHETEROCYCLES': 0, 'NUMSATURATEDCARBOCYCLES': 0, 'NUMALIPHATICRINGS': 0, 'NUMALIPHATICHETEROCYCLES': 0, 'NUMALIPHATICCARBOCYCLES': 0, 'IUPAC': 'decyl N-(4-phenyldiazenylphenyl)carbamate'}\n",
      "done\n",
      "{'text': '\"{\\\\\"synonyms\\\\\":[{\\\\\"name\\\\\":\\\\\"p-Phenylazo carbanilic acid, tetrahydrolinalool ester\\\\\"}],\\\\\"related\\\\\":[{\\\\\"SMILES\\\\\":\\\\\"CC1CCCC(C1)(C)OC(=O)NC2=CC=CC=C2\\\\\",\\\\\"similarity\\\\\":0.74}],\\\\\"experimental\\\\\":[],\\\\\"CID\\\\\":523143,\\\\\"SMILES\\\\\":\\\\\"CCC(C)(CCCC(C)C)OC(=O)NC1=CC=C(C=C1)N=NC2=CC=CC=C2\\\\\",\\\\\"SAS\\\\\":2.98,\\\\\"WEIGHT\\\\\":381.24,\\\\\"TPSA\\\\\":63.05,\\\\\"CLOGP\\\\\":7.65,\\\\\"QED\\\\\":0.45,\\\\\"NUMHDONORS\\\\\":1,\\\\\"NUMHACCEPTORS\\\\\":4,\\\\\"NUMHETEROATOMS\\\\\":5,\\\\\"NUMROTATABLEBONDS\\\\\":9,\\\\\"NOCOUNT\\\\\":5,\\\\\"NHOHCOUNT\\\\\":1,\\\\\"RINGCOUNT\\\\\":2,\\\\\"HEAVYATOMCOUNT\\\\\":28,\\\\\"FRACTIONCSP3\\\\\":0.43,\\\\\"NUMAROMATICRINGS\\\\\":2,\\\\\"NUMSATURATEDRINGS\\\\\":0,\\\\\"NUMAROMATICHETEROCYCLES\\\\\":0,\\\\\"NUMAROMATICCARBOCYCLES\\\\\":2,\\\\\"NUMSATURATEDHETEROCYCLES\\\\\":0,\\\\\"NUMSATURATEDCARBOCYCLES\\\\\":0,\\\\\"NUMALIPHATICRINGS\\\\\":0,\\\\\"NUMALIPHATICHETEROCYCLES\\\\\":0,\\\\\"NUMALIPHATICCARBOCYCLES\\\\\":0,\\\\\"IUPAC\\\\\":\\\\\"3,7-dimethyloctan-3-yl N-(4-phenyldiazenylphenyl)carbamate\\\\\"}\"'}\n",
      "<class 'dict'>\n",
      "{'synonyms': [{'name': 'p-Phenylazo carbanilic acid, tetrahydrolinalool ester'}], 'related': [{'SMILES': 'CC1CCCC(C1)(C)OC(=O)NC2=CC=CC=C2', 'similarity': 0.74}], 'experimental': [], 'CID': 523143, 'SMILES': 'CCC(C)(CCCC(C)C)OC(=O)NC1=CC=C(C=C1)N=NC2=CC=CC=C2', 'SAS': 2.98, 'WEIGHT': 381.24, 'TPSA': 63.05, 'CLOGP': 7.65, 'QED': 0.45, 'NUMHDONORS': 1, 'NUMHACCEPTORS': 4, 'NUMHETEROATOMS': 5, 'NUMROTATABLEBONDS': 9, 'NOCOUNT': 5, 'NHOHCOUNT': 1, 'RINGCOUNT': 2, 'HEAVYATOMCOUNT': 28, 'FRACTIONCSP3': 0.43, 'NUMAROMATICRINGS': 2, 'NUMSATURATEDRINGS': 0, 'NUMAROMATICHETEROCYCLES': 0, 'NUMAROMATICCARBOCYCLES': 2, 'NUMSATURATEDHETEROCYCLES': 0, 'NUMSATURATEDCARBOCYCLES': 0, 'NUMALIPHATICRINGS': 0, 'NUMALIPHATICHETEROCYCLES': 0, 'NUMALIPHATICCARBOCYCLES': 0, 'IUPAC': '3,7-dimethyloctan-3-yl N-(4-phenyldiazenylphenyl)carbamate'}\n",
      "done\n",
      "{'text': '\"{\\\\\"synonyms\\\\\":[{\\\\\"name\\\\\":\\\\\"p-Methoxy carbanilic acid, n-undecyl ester\\\\\"}],\\\\\"related\\\\\":[{\\\\\"SMILES\\\\\":\\\\\"CC(C)OC(=O)NC1=CC=C(C=C1)OC\\\\\",\\\\\"similarity\\\\\":0.63},{\\\\\"SMILES\\\\\":\\\\\"CCCCOC(=O)NC1=CC=C(C=C1)OCC\\\\\",\\\\\"similarity\\\\\":0.88},{\\\\\"SMILES\\\\\":\\\\\"CCCOC(=O)NC1=CC=C(C=C1)OC\\\\\",\\\\\"similarity\\\\\":0.9},{\\\\\"SMILES\\\\\":\\\\\"CC(=CCOC(=O)NC1=CC=C(C=C1)NC2=CC=C(C=C2)OC)C\\\\\",\\\\\"similarity\\\\\":0.64},{\\\\\"SMILES\\\\\":\\\\\"CCCCCCCCCOC1=CC=C(C=C1)NC(=O)N\\\\\",\\\\\"similarity\\\\\":0.72},{\\\\\"SMILES\\\\\":\\\\\"CCOC1=CC=C(C=C1)NC(=O)OC(C)(C)C\\\\\",\\\\\"similarity\\\\\":0.67},{\\\\\"SMILES\\\\\":\\\\\"CCCCCCCCCCCCOC1=CC=C(C=C1)NC(=O)OCC\\\\\",\\\\\"similarity\\\\\":0.93},{\\\\\"SMILES\\\\\":\\\\\"C[C@H](COC(=O)NC1=CC=C(C=C1)OC)SC\\\\\",\\\\\"similarity\\\\\":0.75},{\\\\\"SMILES\\\\\":\\\\\"CC(C)(C)OC(=O)NC1=CC=C(C=C1)OCCCCN(C)C\\\\\",\\\\\"similarity\\\\\":0.7},{\\\\\"SMILES\\\\\":\\\\\"COC1=CC=C(C=C1)NC(=O)OCCF\\\\\",\\\\\"similarity\\\\\":0.77},{\\\\\"SMILES\\\\\":\\\\\"CC(C)OC(=O)NC1=CC(=C(C=C1)OC)F\\\\\",\\\\\"similarity\\\\\":0.55},{\\\\\"SMILES\\\\\":\\\\\"COC1=CC=C(C=C1)NC(=O)OCC=C\\\\\",\\\\\"similarity\\\\\":0.7},{\\\\\"SMILES\\\\\":\\\\\"CCCCCCCCCCCOC1=CC=C(C=C1)NC(=O)O\\\\\",\\\\\"similarity\\\\\":0.84}],\\\\\"experimental\\\\\":[],\\\\\"CID\\\\\":523144,\\\\\"SMILES\\\\\":\\\\\"CCCCCCCCCCCOC(=O)NC1=CC=C(C=C1)OC\\\\\",\\\\\"SAS\\\\\":1.75,\\\\\"WEIGHT\\\\\":321.23,\\\\\"TPSA\\\\\":47.56,\\\\\"CLOGP\\\\\":5.77,\\\\\"QED\\\\\":0.5,\\\\\"NUMHDONORS\\\\\":1,\\\\\"NUMHACCEPTORS\\\\\":3,\\\\\"NUMHETEROATOMS\\\\\":4,\\\\\"NUMROTATABLEBONDS\\\\\":12,\\\\\"NOCOUNT\\\\\":4,\\\\\"NHOHCOUNT\\\\\":1,\\\\\"RINGCOUNT\\\\\":1,\\\\\"HEAVYATOMCOUNT\\\\\":23,\\\\\"FRACTIONCSP3\\\\\":0.63,\\\\\"NUMAROMATICRINGS\\\\\":1,\\\\\"NUMSATURATEDRINGS\\\\\":0,\\\\\"NUMAROMATICHETEROCYCLES\\\\\":0,\\\\\"NUMAROMATICCARBOCYCLES\\\\\":1,\\\\\"NUMSATURATEDHETEROCYCLES\\\\\":0,\\\\\"NUMSATURATEDCARBOCYCLES\\\\\":0,\\\\\"NUMALIPHATICRINGS\\\\\":0,\\\\\"NUMALIPHATICHETEROCYCLES\\\\\":0,\\\\\"NUMALIPHATICCARBOCYCLES\\\\\":0,\\\\\"IUPAC\\\\\":\\\\\"undecyl N-(4-methoxyphenyl)carbamate\\\\\"}\"'}\n",
      "<class 'dict'>\n",
      "{'synonyms': [{'name': 'p-Methoxy carbanilic acid, n-undecyl ester'}], 'related': [{'SMILES': 'CC(C)OC(=O)NC1=CC=C(C=C1)OC', 'similarity': 0.63}, {'SMILES': 'CCCCOC(=O)NC1=CC=C(C=C1)OCC', 'similarity': 0.88}, {'SMILES': 'CCCOC(=O)NC1=CC=C(C=C1)OC', 'similarity': 0.9}, {'SMILES': 'CC(=CCOC(=O)NC1=CC=C(C=C1)NC2=CC=C(C=C2)OC)C', 'similarity': 0.64}, {'SMILES': 'CCCCCCCCCOC1=CC=C(C=C1)NC(=O)N', 'similarity': 0.72}, {'SMILES': 'CCOC1=CC=C(C=C1)NC(=O)OC(C)(C)C', 'similarity': 0.67}, {'SMILES': 'CCCCCCCCCCCCOC1=CC=C(C=C1)NC(=O)OCC', 'similarity': 0.93}, {'SMILES': 'C[C@H](COC(=O)NC1=CC=C(C=C1)OC)SC', 'similarity': 0.75}, {'SMILES': 'CC(C)(C)OC(=O)NC1=CC=C(C=C1)OCCCCN(C)C', 'similarity': 0.7}, {'SMILES': 'COC1=CC=C(C=C1)NC(=O)OCCF', 'similarity': 0.77}, {'SMILES': 'CC(C)OC(=O)NC1=CC(=C(C=C1)OC)F', 'similarity': 0.55}, {'SMILES': 'COC1=CC=C(C=C1)NC(=O)OCC=C', 'similarity': 0.7}, {'SMILES': 'CCCCCCCCCCCOC1=CC=C(C=C1)NC(=O)O', 'similarity': 0.84}], 'experimental': [], 'CID': 523144, 'SMILES': 'CCCCCCCCCCCOC(=O)NC1=CC=C(C=C1)OC', 'SAS': 1.75, 'WEIGHT': 321.23, 'TPSA': 47.56, 'CLOGP': 5.77, 'QED': 0.5, 'NUMHDONORS': 1, 'NUMHACCEPTORS': 3, 'NUMHETEROATOMS': 4, 'NUMROTATABLEBONDS': 12, 'NOCOUNT': 4, 'NHOHCOUNT': 1, 'RINGCOUNT': 1, 'HEAVYATOMCOUNT': 23, 'FRACTIONCSP3': 0.63, 'NUMAROMATICRINGS': 1, 'NUMSATURATEDRINGS': 0, 'NUMAROMATICHETEROCYCLES': 0, 'NUMAROMATICCARBOCYCLES': 1, 'NUMSATURATEDHETEROCYCLES': 0, 'NUMSATURATEDCARBOCYCLES': 0, 'NUMALIPHATICRINGS': 0, 'NUMALIPHATICHETEROCYCLES': 0, 'NUMALIPHATICCARBOCYCLES': 0, 'IUPAC': 'undecyl N-(4-methoxyphenyl)carbamate'}\n",
      "done\n",
      "{'text': '\"{\\\\\"synonyms\\\\\":[{\\\\\"name\\\\\":\\\\\"2-(m-Hydroxyphenoxy)-3-methyl pyrazine\\\\\"},{\\\\\"name\\\\\":\\\\\"AKOS021384411\\\\\"}],\\\\\"related\\\\\":[],\\\\\"experimental\\\\\":[],\\\\\"CID\\\\\":523145,\\\\\"SMILES\\\\\":\\\\\"CC1=NC=CN=C1OC2=CC=CC(=C2)O\\\\\",\\\\\"SAS\\\\\":2.18,\\\\\"WEIGHT\\\\\":202.07,\\\\\"TPSA\\\\\":55.24,\\\\\"CLOGP\\\\\":2.28,\\\\\"QED\\\\\":0.81,\\\\\"NUMHDONORS\\\\\":1,\\\\\"NUMHACCEPTORS\\\\\":4,\\\\\"NUMHETEROATOMS\\\\\":4,\\\\\"NUMROTATABLEBONDS\\\\\":2,\\\\\"NOCOUNT\\\\\":4,\\\\\"NHOHCOUNT\\\\\":1,\\\\\"RINGCOUNT\\\\\":2,\\\\\"HEAVYATOMCOUNT\\\\\":15,\\\\\"FRACTIONCSP3\\\\\":0.09,\\\\\"NUMAROMATICRINGS\\\\\":2,\\\\\"NUMSATURATEDRINGS\\\\\":0,\\\\\"NUMAROMATICHETEROCYCLES\\\\\":1,\\\\\"NUMAROMATICCARBOCYCLES\\\\\":1,\\\\\"NUMSATURATEDHETEROCYCLES\\\\\":0,\\\\\"NUMSATURATEDCARBOCYCLES\\\\\":0,\\\\\"NUMALIPHATICRINGS\\\\\":0,\\\\\"NUMALIPHATICHETEROCYCLES\\\\\":0,\\\\\"NUMALIPHATICCARBOCYCLES\\\\\":0,\\\\\"IUPAC\\\\\":\\\\\"3-(3-methylpyrazin-2-yl)oxyphenol\\\\\"}\"'}\n",
      "<class 'dict'>\n",
      "{'synonyms': [{'name': '2-(m-Hydroxyphenoxy)-3-methyl pyrazine'}, {'name': 'AKOS021384411'}], 'related': [], 'experimental': [], 'CID': 523145, 'SMILES': 'CC1=NC=CN=C1OC2=CC=CC(=C2)O', 'SAS': 2.18, 'WEIGHT': 202.07, 'TPSA': 55.24, 'CLOGP': 2.28, 'QED': 0.81, 'NUMHDONORS': 1, 'NUMHACCEPTORS': 4, 'NUMHETEROATOMS': 4, 'NUMROTATABLEBONDS': 2, 'NOCOUNT': 4, 'NHOHCOUNT': 1, 'RINGCOUNT': 2, 'HEAVYATOMCOUNT': 15, 'FRACTIONCSP3': 0.09, 'NUMAROMATICRINGS': 2, 'NUMSATURATEDRINGS': 0, 'NUMAROMATICHETEROCYCLES': 1, 'NUMAROMATICCARBOCYCLES': 1, 'NUMSATURATEDHETEROCYCLES': 0, 'NUMSATURATEDCARBOCYCLES': 0, 'NUMALIPHATICRINGS': 0, 'NUMALIPHATICHETEROCYCLES': 0, 'NUMALIPHATICCARBOCYCLES': 0, 'IUPAC': '3-(3-methylpyrazin-2-yl)oxyphenol'}\n",
      "done\n"
     ]
    },
    {
     "name": "stderr",
     "output_type": "stream",
     "text": [
      "/home/menuab/miniconda3/envs/pubchem/lib/python3.11/site-packages/transformers/optimization.py:411: FutureWarning: This implementation of AdamW is deprecated and will be removed in a future version. Use the PyTorch implementation torch.optim.AdamW instead, or set `no_deprecation_warning=True` to disable this warning\n",
      "  warnings.warn(\n"
     ]
    },
    {
     "ename": "ValueError",
     "evalue": "The batch received was empty, your model won't be able to train on it. Double-check that your training dataset contains keys expected by the model: input_ids,attention_mask,head_mask,past_key_values,inputs_embeds,labels,use_cache,output_attentions,output_hidden_states,return_dict,label_ids,label,labels.",
     "output_type": "error",
     "traceback": [
      "\u001b[0;31m---------------------------------------------------------------------------\u001b[0m",
      "\u001b[0;31mValueError\u001b[0m                                Traceback (most recent call last)",
      "Cell \u001b[0;32mIn[20], line 94\u001b[0m\n\u001b[1;32m     70\u001b[0m training_args \u001b[39m=\u001b[39m TrainingArguments(\n\u001b[1;32m     71\u001b[0m     output_dir\u001b[39m=\u001b[39m\u001b[39mf\u001b[39m\u001b[39m\"\u001b[39m\u001b[39m{\u001b[39;00mmodel_checkpoint\u001b[39m.\u001b[39msplit(\u001b[39m'\u001b[39m\u001b[39m/\u001b[39m\u001b[39m'\u001b[39m)[\u001b[39m-\u001b[39m\u001b[39m1\u001b[39m]\u001b[39m}\u001b[39;00m\u001b[39m-finetuned-pubchem\u001b[39m\u001b[39m\"\u001b[39m,\n\u001b[1;32m     72\u001b[0m     evaluation_strategy\u001b[39m=\u001b[39m\u001b[39m\"\u001b[39m\u001b[39msteps\u001b[39m\u001b[39m\"\u001b[39m,\n\u001b[0;32m   (...)\u001b[0m\n\u001b[1;32m     82\u001b[0m     num_train_epochs\u001b[39m=\u001b[39m\u001b[39m5\u001b[39m\n\u001b[1;32m     83\u001b[0m )\n\u001b[1;32m     85\u001b[0m trainer \u001b[39m=\u001b[39m Trainer(\n\u001b[1;32m     86\u001b[0m     model\u001b[39m=\u001b[39mmodel,\n\u001b[1;32m     87\u001b[0m     args\u001b[39m=\u001b[39mtraining_args,\n\u001b[0;32m   (...)\u001b[0m\n\u001b[1;32m     91\u001b[0m     \u001b[39m# callbacks=[aim_callback],\u001b[39;00m\n\u001b[1;32m     92\u001b[0m )\n\u001b[0;32m---> 94\u001b[0m trainer\u001b[39m.\u001b[39;49mtrain()\n",
      "File \u001b[0;32m~/miniconda3/envs/pubchem/lib/python3.11/site-packages/transformers/trainer.py:1645\u001b[0m, in \u001b[0;36mTrainer.train\u001b[0;34m(self, resume_from_checkpoint, trial, ignore_keys_for_eval, **kwargs)\u001b[0m\n\u001b[1;32m   1640\u001b[0m     \u001b[39mself\u001b[39m\u001b[39m.\u001b[39mmodel_wrapped \u001b[39m=\u001b[39m \u001b[39mself\u001b[39m\u001b[39m.\u001b[39mmodel\n\u001b[1;32m   1642\u001b[0m inner_training_loop \u001b[39m=\u001b[39m find_executable_batch_size(\n\u001b[1;32m   1643\u001b[0m     \u001b[39mself\u001b[39m\u001b[39m.\u001b[39m_inner_training_loop, \u001b[39mself\u001b[39m\u001b[39m.\u001b[39m_train_batch_size, args\u001b[39m.\u001b[39mauto_find_batch_size\n\u001b[1;32m   1644\u001b[0m )\n\u001b[0;32m-> 1645\u001b[0m \u001b[39mreturn\u001b[39;00m inner_training_loop(\n\u001b[1;32m   1646\u001b[0m     args\u001b[39m=\u001b[39;49margs,\n\u001b[1;32m   1647\u001b[0m     resume_from_checkpoint\u001b[39m=\u001b[39;49mresume_from_checkpoint,\n\u001b[1;32m   1648\u001b[0m     trial\u001b[39m=\u001b[39;49mtrial,\n\u001b[1;32m   1649\u001b[0m     ignore_keys_for_eval\u001b[39m=\u001b[39;49mignore_keys_for_eval,\n\u001b[1;32m   1650\u001b[0m )\n",
      "File \u001b[0;32m~/miniconda3/envs/pubchem/lib/python3.11/site-packages/transformers/trainer.py:1938\u001b[0m, in \u001b[0;36mTrainer._inner_training_loop\u001b[0;34m(self, batch_size, args, resume_from_checkpoint, trial, ignore_keys_for_eval)\u001b[0m\n\u001b[1;32m   1935\u001b[0m     \u001b[39mself\u001b[39m\u001b[39m.\u001b[39mcontrol \u001b[39m=\u001b[39m \u001b[39mself\u001b[39m\u001b[39m.\u001b[39mcallback_handler\u001b[39m.\u001b[39mon_step_begin(args, \u001b[39mself\u001b[39m\u001b[39m.\u001b[39mstate, \u001b[39mself\u001b[39m\u001b[39m.\u001b[39mcontrol)\n\u001b[1;32m   1937\u001b[0m \u001b[39mwith\u001b[39;00m \u001b[39mself\u001b[39m\u001b[39m.\u001b[39maccelerator\u001b[39m.\u001b[39maccumulate(model):\n\u001b[0;32m-> 1938\u001b[0m     tr_loss_step \u001b[39m=\u001b[39m \u001b[39mself\u001b[39;49m\u001b[39m.\u001b[39;49mtraining_step(model, inputs)\n\u001b[1;32m   1940\u001b[0m \u001b[39mif\u001b[39;00m (\n\u001b[1;32m   1941\u001b[0m     args\u001b[39m.\u001b[39mlogging_nan_inf_filter\n\u001b[1;32m   1942\u001b[0m     \u001b[39mand\u001b[39;00m \u001b[39mnot\u001b[39;00m is_torch_tpu_available()\n\u001b[1;32m   1943\u001b[0m     \u001b[39mand\u001b[39;00m (torch\u001b[39m.\u001b[39misnan(tr_loss_step) \u001b[39mor\u001b[39;00m torch\u001b[39m.\u001b[39misinf(tr_loss_step))\n\u001b[1;32m   1944\u001b[0m ):\n\u001b[1;32m   1945\u001b[0m     \u001b[39m# if loss is nan or inf simply add the average of previous logged losses\u001b[39;00m\n\u001b[1;32m   1946\u001b[0m     tr_loss \u001b[39m+\u001b[39m\u001b[39m=\u001b[39m tr_loss \u001b[39m/\u001b[39m (\u001b[39m1\u001b[39m \u001b[39m+\u001b[39m \u001b[39mself\u001b[39m\u001b[39m.\u001b[39mstate\u001b[39m.\u001b[39mglobal_step \u001b[39m-\u001b[39m \u001b[39mself\u001b[39m\u001b[39m.\u001b[39m_globalstep_last_logged)\n",
      "File \u001b[0;32m~/miniconda3/envs/pubchem/lib/python3.11/site-packages/transformers/trainer.py:2752\u001b[0m, in \u001b[0;36mTrainer.training_step\u001b[0;34m(self, model, inputs)\u001b[0m\n\u001b[1;32m   2734\u001b[0m \u001b[39m\u001b[39m\u001b[39m\"\"\"\u001b[39;00m\n\u001b[1;32m   2735\u001b[0m \u001b[39mPerform a training step on a batch of inputs.\u001b[39;00m\n\u001b[1;32m   2736\u001b[0m \n\u001b[0;32m   (...)\u001b[0m\n\u001b[1;32m   2749\u001b[0m \u001b[39m    `torch.Tensor`: The tensor with training loss on this batch.\u001b[39;00m\n\u001b[1;32m   2750\u001b[0m \u001b[39m\"\"\"\u001b[39;00m\n\u001b[1;32m   2751\u001b[0m model\u001b[39m.\u001b[39mtrain()\n\u001b[0;32m-> 2752\u001b[0m inputs \u001b[39m=\u001b[39m \u001b[39mself\u001b[39;49m\u001b[39m.\u001b[39;49m_prepare_inputs(inputs)\n\u001b[1;32m   2754\u001b[0m \u001b[39mif\u001b[39;00m is_sagemaker_mp_enabled():\n\u001b[1;32m   2755\u001b[0m     loss_mb \u001b[39m=\u001b[39m smp_forward_backward(model, inputs, \u001b[39mself\u001b[39m\u001b[39m.\u001b[39margs\u001b[39m.\u001b[39mgradient_accumulation_steps)\n",
      "File \u001b[0;32m~/miniconda3/envs/pubchem/lib/python3.11/site-packages/transformers/trainer.py:2699\u001b[0m, in \u001b[0;36mTrainer._prepare_inputs\u001b[0;34m(self, inputs)\u001b[0m\n\u001b[1;32m   2697\u001b[0m inputs \u001b[39m=\u001b[39m \u001b[39mself\u001b[39m\u001b[39m.\u001b[39m_prepare_input(inputs)\n\u001b[1;32m   2698\u001b[0m \u001b[39mif\u001b[39;00m \u001b[39mlen\u001b[39m(inputs) \u001b[39m==\u001b[39m \u001b[39m0\u001b[39m:\n\u001b[0;32m-> 2699\u001b[0m     \u001b[39mraise\u001b[39;00m \u001b[39mValueError\u001b[39;00m(\n\u001b[1;32m   2700\u001b[0m         \u001b[39m\"\u001b[39m\u001b[39mThe batch received was empty, your model won\u001b[39m\u001b[39m'\u001b[39m\u001b[39mt be able to train on it. Double-check that your \u001b[39m\u001b[39m\"\u001b[39m\n\u001b[1;32m   2701\u001b[0m         \u001b[39mf\u001b[39m\u001b[39m\"\u001b[39m\u001b[39mtraining dataset contains keys expected by the model: \u001b[39m\u001b[39m{\u001b[39;00m\u001b[39m'\u001b[39m\u001b[39m,\u001b[39m\u001b[39m'\u001b[39m\u001b[39m.\u001b[39mjoin(\u001b[39mself\u001b[39m\u001b[39m.\u001b[39m_signature_columns)\u001b[39m}\u001b[39;00m\u001b[39m.\u001b[39m\u001b[39m\"\u001b[39m\n\u001b[1;32m   2702\u001b[0m     )\n\u001b[1;32m   2703\u001b[0m \u001b[39mif\u001b[39;00m \u001b[39mself\u001b[39m\u001b[39m.\u001b[39margs\u001b[39m.\u001b[39mpast_index \u001b[39m>\u001b[39m\u001b[39m=\u001b[39m \u001b[39m0\u001b[39m \u001b[39mand\u001b[39;00m \u001b[39mself\u001b[39m\u001b[39m.\u001b[39m_past \u001b[39mis\u001b[39;00m \u001b[39mnot\u001b[39;00m \u001b[39mNone\u001b[39;00m:\n\u001b[1;32m   2704\u001b[0m     inputs[\u001b[39m\"\u001b[39m\u001b[39mmems\u001b[39m\u001b[39m\"\u001b[39m] \u001b[39m=\u001b[39m \u001b[39mself\u001b[39m\u001b[39m.\u001b[39m_past\n",
      "\u001b[0;31mValueError\u001b[0m: The batch received was empty, your model won't be able to train on it. Double-check that your training dataset contains keys expected by the model: input_ids,attention_mask,head_mask,past_key_values,inputs_embeds,labels,use_cache,output_attentions,output_hidden_states,return_dict,label_ids,label,labels."
     ]
    }
   ],
   "source": [
    "import transformers\n",
    "from transformers import AutoTokenizer\n",
    "from transformers import AutoModelForCausalLM\n",
    "from transformers import Trainer, TrainingArguments\n",
    "from datasets import load_dataset\n",
    "from eval_metrics import compute_metrics\n",
    "from aim.hugging_face import AimCallback\n",
    "from text_format_utils import generate_formatted_string\n",
    "import json\n",
    "\n",
    "\n",
    "def process_str(str):\n",
    "    # string = \"\"\"{\\\"synonyms\\\":[{\\\"name\\\":\\\"p-Phenylazo carbanilic acid, n-hexyl ester\\\"}],\\\"related\\\":[{\\\"SMILES\\\":\\\"CCCCOC(=O)NC1=CC=C(C=C1)N\\\",\\\"similarity\\\":0.74}],\\\"experimental\\\":[],\\\"CID\\\":523129,\\\"SMILES\\\":\\\"CCCCCCOC(=O)NC1=CC=C(C=C1)N=NC2=CC=CC=C2\\\",\\\"SAS\\\":2.09,\\\"WEIGHT\\\":325.18,\\\"TPSA\\\":63.05,\\\"CLOGP\\\":6.23,\\\"QED\\\":0.46,\\\"NUMHDONORS\\\":1,\\\"NUMHACCEPTORS\\\":4,\\\"NUMHETEROATOMS\\\":5,\\\"NUMROTATABLEBONDS\\\":8,\\\"NOCOUNT\\\":5,\\\"NHOHCOUNT\\\":1,\\\"RINGCOUNT\\\":2,\\\"HEAVYATOMCOUNT\\\":24,\\\"FRACTIONCSP3\\\":0.32,\\\"NUMAROMATICRINGS\\\":2,\\\"NUMSATURATEDRINGS\\\":0,\\\"NUMAROMATICHETEROCYCLES\\\":0,\\\"NUMAROMATICCARBOCYCLES\\\":2,\\\"NUMSATURATEDHETEROCYCLES\\\":0,\\\"NUMSATURATEDCARBOCYCLES\\\":0,\\\"NUMALIPHATICRINGS\\\":0,\\\"NUMALIPHATICHETEROCYCLES\\\":0,\\\"NUMALIPHATICCARBOCYCLES\\\":0,\\\"IUPAC\\\":\\\"hexyl N-(4-phenyldiazenylphenyl)carbamate\\\"}\"\"\"\n",
    "\n",
    "    print(str)\n",
    "    # str[\"text\"] = str[\"text\"].replace('\\\\\\', '\\\\'')\n",
    "    # print(string)\n",
    "    com = json.loads(json.loads((str[\"text\"])))\n",
    "    str['txt'] = generate_formatted_string(com)\n",
    "    print(str['txt'])\n",
    "    print(com)\n",
    "    print('done')\n",
    "    return str\n",
    "\n",
    "\n",
    "def tokenize_function(examples):\n",
    "    return tokenizer(examples[\"text\"])\n",
    "\n",
    "\n",
    "def group_texts(examples):\n",
    "    # Concatenate all texts.\n",
    "    concatenated_examples = {k: sum(examples[k], []) for k in examples.keys()}\n",
    "    total_length = len(concatenated_examples[list(examples.keys())[0]])\n",
    "    # We drop the small remainder, we could add padding if the model supported it instead of this drop, you can\n",
    "    # customize this part to your needs.\n",
    "    total_length = (total_length // block_size) * block_size\n",
    "    # Split by chunks of max_len.\n",
    "    result = {\n",
    "        k: [t[i : i + block_size] for i in range(0, total_length, block_size)]\n",
    "        for k, t in concatenated_examples.items()\n",
    "    }\n",
    "    result[\"labels\"] = result[\"input_ids\"].copy()\n",
    "    return result\n",
    "\n",
    "\n",
    "def tokenize_function(examples):\n",
    "    return tokenizer(examples[\"text\"])\n",
    "\n",
    "\n",
    "if __name__ == \"__main__\":\n",
    "    model_checkpoint = \"facebook/galactica-125m\"\n",
    "    block_size = 128\n",
    "\n",
    "    model = AutoModelForCausalLM.from_pretrained(model_checkpoint)\n",
    "    tokenizer = AutoTokenizer.from_pretrained(model_checkpoint)\n",
    "                               \n",
    "    dataset = load_dataset(\n",
    "        \"text\",\n",
    "        data_files={\"train\": \"./train.jsonl\", \"validation\": \"./evaluation.jsonl\"},\n",
    "        streaming=True,\n",
    "    )\n",
    "    print('data laoded')\n",
    "    dataset = dataset.map(process_str)\n",
    "    # tokenized_datasets = dataset.map(\n",
    "    #     tokenize_function, batched=True, remove_columns=[\"text\"]\n",
    "    # )\n",
    "    # lm_datasets = tokenized_datasets.map(group_texts, batched=True, batch_size=1000)\n",
    "\n",
    "    # aim_callback = AimCallback(repo=\".\", experiment=\"your_experiment_name\")\n",
    "\n",
    "    training_args = TrainingArguments(\n",
    "        output_dir=f\"{model_checkpoint.split('/')[-1]}-finetuned-pubchem\",\n",
    "        evaluation_strategy=\"steps\",\n",
    "        learning_rate=6e-6,\n",
    "        lr_scheduler_type='linear',\n",
    "        weight_decay=0.1,\n",
    "        adam_beta1=0.9,\n",
    "        adam_beta2=0.95,\n",
    "        warmup_steps=500,\n",
    "        max_grad_norm=1.0,\n",
    "        eval_steps=1,\n",
    "        max_steps=10,\n",
    "        num_train_epochs=5\n",
    "    )\n",
    "\n",
    "    trainer = Trainer(\n",
    "        model=model,\n",
    "        args=training_args,\n",
    "        # compute_metrics=compute_metrics,\n",
    "        train_dataset=dataset[\"train\"],\n",
    "        eval_dataset=dataset[\"validation\"],\n",
    "        # callbacks=[aim_callback],\n",
    "    )\n",
    "\n",
    "    trainer.train()\n"
   ]
  },
  {
   "cell_type": "code",
   "execution_count": 5,
   "metadata": {},
   "outputs": [
    {
     "name": "stderr",
     "output_type": "stream",
     "text": [
      "/home/menuab/miniconda3/envs/pubchem/lib/python3.11/site-packages/transformers/optimization.py:411: FutureWarning: This implementation of AdamW is deprecated and will be removed in a future version. Use the PyTorch implementation torch.optim.AdamW instead, or set `no_deprecation_warning=True` to disable this warning\n",
      "  warnings.warn(\n",
      "/home/menuab/miniconda3/envs/pubchem/lib/python3.11/site-packages/torch/nn/parallel/_functions.py:68: UserWarning: Was asked to gather along dimension 0, but all input tensors were scalars; will instead unsqueeze and return a vector.\n",
      "  warnings.warn('Was asked to gather along dimension 0, but all '\n"
     ]
    },
    {
     "data": {
      "text/html": [
       "\n",
       "    <div>\n",
       "      \n",
       "      <progress value='2' max='2' style='width:300px; height:20px; vertical-align: middle;'></progress>\n",
       "      [2/2 01:25, Epoch 1/9223372036854775807]\n",
       "    </div>\n",
       "    <table border=\"1\" class=\"dataframe\">\n",
       "  <thead>\n",
       " <tr style=\"text-align: left;\">\n",
       "      <th>Epoch</th>\n",
       "      <th>Training Loss</th>\n",
       "      <th>Validation Loss</th>\n",
       "    </tr>\n",
       "  </thead>\n",
       "  <tbody>\n",
       "    <tr>\n",
       "      <td>1</td>\n",
       "      <td>No log</td>\n",
       "      <td>1.623429</td>\n",
       "    </tr>\n",
       "  </tbody>\n",
       "</table><p>"
      ],
      "text/plain": [
       "<IPython.core.display.HTML object>"
      ]
     },
     "metadata": {},
     "output_type": "display_data"
    },
    {
     "data": {
      "text/plain": [
       "TrainOutput(global_step=2, training_loss=2.262911796569824, metrics={'train_runtime': 92.3246, 'train_samples_per_second': 0.347, 'train_steps_per_second': 0.022, 'total_flos': 2090336256000.0, 'train_loss': 2.262911796569824, 'epoch': 1.0})"
      ]
     },
     "execution_count": 5,
     "metadata": {},
     "output_type": "execute_result"
    }
   ],
   "source": [
    "trainer = Trainer(\n",
    "    model=model,\n",
    "    args=training_args,\n",
    "    train_dataset=lm_datasets['train'],\n",
    "    eval_dataset=lm_datasets[\"validation\"],\n",
    ")\n",
    "\n",
    "trainer.train()"
   ]
  },
  {
   "cell_type": "code",
   "execution_count": 69,
   "metadata": {},
   "outputs": [],
   "source": [
    "import pyarrow as pa\n",
    "from pyarrow import json\n",
    "    \n",
    "raw_schema = pa.schema([\n",
    "    pa.field('SomeDecimal', pa.string())\n",
    "])"
   ]
  },
  {
   "cell_type": "code",
   "execution_count": 82,
   "metadata": {},
   "outputs": [],
   "source": [
    "schema = {'synonyms': [{'name': 'p-Phenylazo carbanilic acid, n-hexyl ester'}],\n",
    " 'related': [{'SMILES': 'CCCCOC(=O)NC1=CC=C(C=C1)N', 'similarity': 0.74}],\n",
    " 'experimental': [],\n",
    " 'CID': 523129,\n",
    " 'SMILES': 'CCCCCCOC(=O)NC1=CC=C(C=C1)N=NC2=CC=CC=C2',\n",
    " 'SAS': 2.09,\n",
    " 'WEIGHT': 325.18,\n",
    " 'TPSA': 63.05,\n",
    " 'CLOGP': 6.23,\n",
    " 'QED': 0.46,\n",
    " 'NUMHDONORS': 1,\n",
    " 'NUMHACCEPTORS': 4,\n",
    " 'NUMHETEROATOMS': 5,\n",
    " 'NUMROTATABLEBONDS': 8,\n",
    " 'NOCOUNT': 5,\n",
    " 'NHOHCOUNT': 1,\n",
    " 'RINGCOUNT': 2,\n",
    " 'HEAVYATOMCOUNT': 24,\n",
    " 'FRACTIONCSP3': 0.32,\n",
    " 'NUMAROMATICRINGS': 2,\n",
    " 'NUMSATURATEDRINGS': 0,\n",
    " 'NUMAROMATICHETEROCYCLES': 0,\n",
    " 'NUMAROMATICCARBOCYCLES': 2,\n",
    " 'NUMSATURATEDHETEROCYCLES': 0,\n",
    " 'NUMSATURATEDCARBOCYCLES': 0,\n",
    " 'NUMALIPHATICRINGS': 0,\n",
    " 'NUMALIPHATICHETEROCYCLES': 0,\n",
    " 'NUMALIPHATICCARBOCYCLES': 0,\n",
    " 'IUPAC': 'hexyl N-(4-phenyldiazenylphenyl)carbamate'}"
   ]
  },
  {
   "cell_type": "code",
   "execution_count": 89,
   "metadata": {},
   "outputs": [],
   "source": [
    "s = pa.array(schema)"
   ]
  },
  {
   "cell_type": "code",
   "execution_count": 93,
   "metadata": {},
   "outputs": [
    {
     "ename": "TypeError",
     "evalue": "'str' object cannot be interpreted as an integer",
     "output_type": "error",
     "traceback": [
      "\u001b[0;31m---------------------------------------------------------------------------\u001b[0m",
      "\u001b[0;31mTypeError\u001b[0m                                 Traceback (most recent call last)",
      "Cell \u001b[0;32mIn[93], line 1\u001b[0m\n\u001b[0;32m----> 1\u001b[0m s[\u001b[39m'\u001b[39;49m\u001b[39mTSPA\u001b[39;49m\u001b[39m'\u001b[39;49m]\n",
      "File \u001b[0;32m~/miniconda3/envs/pubchem/lib/python3.11/site-packages/pyarrow/array.pxi:1315\u001b[0m, in \u001b[0;36mpyarrow.lib.Array.__getitem__\u001b[0;34m()\u001b[0m\n",
      "\u001b[0;31mTypeError\u001b[0m: 'str' object cannot be interpreted as an integer"
     ]
    }
   ],
   "source": []
  },
  {
   "cell_type": "code",
   "execution_count": 95,
   "metadata": {},
   "outputs": [],
   "source": [
    "l=[]\n",
    "for k,v in schema.items():\n",
    "    f = k\n",
    "    if isinstance(v,list):\n",
    "        s = pa.list_(pa.dictionary(pa.int16(),pa.string()))\n",
    "    elif isinstance(v, str):\n",
    "        s = pa.string()\n",
    "    else:\n",
    "        s = pa.float16()\n",
    "\n",
    "    l.append(pa.field(f,s))"
   ]
  },
  {
   "cell_type": "code",
   "execution_count": 84,
   "metadata": {},
   "outputs": [],
   "source": [
    "raw_schema = pa.schema(l)"
   ]
  },
  {
   "cell_type": "code",
   "execution_count": 85,
   "metadata": {},
   "outputs": [
    {
     "data": {
      "text/plain": [
       "synonyms: list<item: dictionary<values=string, indices=int16, ordered=0>>\n",
       "  child 0, item: dictionary<values=string, indices=int16, ordered=0>\n",
       "related: list<item: dictionary<values=string, indices=int16, ordered=0>>\n",
       "  child 0, item: dictionary<values=string, indices=int16, ordered=0>\n",
       "experimental: list<item: dictionary<values=string, indices=int16, ordered=0>>\n",
       "  child 0, item: dictionary<values=string, indices=int16, ordered=0>\n",
       "CID: halffloat\n",
       "SMILES: string\n",
       "SAS: halffloat\n",
       "WEIGHT: halffloat\n",
       "TPSA: halffloat\n",
       "CLOGP: halffloat\n",
       "QED: halffloat\n",
       "NUMHDONORS: halffloat\n",
       "NUMHACCEPTORS: halffloat\n",
       "NUMHETEROATOMS: halffloat\n",
       "NUMROTATABLEBONDS: halffloat\n",
       "NOCOUNT: halffloat\n",
       "NHOHCOUNT: halffloat\n",
       "RINGCOUNT: halffloat\n",
       "HEAVYATOMCOUNT: halffloat\n",
       "FRACTIONCSP3: halffloat\n",
       "NUMAROMATICRINGS: halffloat\n",
       "NUMSATURATEDRINGS: halffloat\n",
       "NUMAROMATICHETEROCYCLES: halffloat\n",
       "NUMAROMATICCARBOCYCLES: halffloat\n",
       "NUMSATURATEDHETEROCYCLES: halffloat\n",
       "NUMSATURATEDCARBOCYCLES: halffloat\n",
       "NUMALIPHATICRINGS: halffloat\n",
       "NUMALIPHATICHETEROCYCLES: halffloat\n",
       "NUMALIPHATICCARBOCYCLES: halffloat\n",
       "IUPAC: string"
      ]
     },
     "execution_count": 85,
     "metadata": {},
     "output_type": "execute_result"
    }
   ],
   "source": [
    "raw_schema"
   ]
  },
  {
   "cell_type": "code",
   "execution_count": 81,
   "metadata": {},
   "outputs": [
    {
     "ename": "ArrowNotImplementedError",
     "evalue": "JSON conversion to halffloat is not supported",
     "output_type": "error",
     "traceback": [
      "\u001b[0;31m---------------------------------------------------------------------------\u001b[0m",
      "\u001b[0;31mArrowNotImplementedError\u001b[0m                  Traceback (most recent call last)",
      "Cell \u001b[0;32mIn[81], line 1\u001b[0m\n\u001b[0;32m----> 1\u001b[0m json\u001b[39m.\u001b[39;49mread_json(\u001b[39m'\u001b[39;49m\u001b[39m../dataloader/523129_start.jsonl\u001b[39;49m\u001b[39m'\u001b[39;49m, parse_options\u001b[39m=\u001b[39;49mjson\u001b[39m.\u001b[39;49mParseOptions(explicit_schema\u001b[39m=\u001b[39;49mraw_schema))\n",
      "File \u001b[0;32m~/miniconda3/envs/pubchem/lib/python3.11/site-packages/pyarrow/_json.pyx:258\u001b[0m, in \u001b[0;36mpyarrow._json.read_json\u001b[0;34m()\u001b[0m\n",
      "File \u001b[0;32m~/miniconda3/envs/pubchem/lib/python3.11/site-packages/pyarrow/error.pxi:144\u001b[0m, in \u001b[0;36mpyarrow.lib.pyarrow_internal_check_status\u001b[0;34m()\u001b[0m\n",
      "File \u001b[0;32m~/miniconda3/envs/pubchem/lib/python3.11/site-packages/pyarrow/error.pxi:121\u001b[0m, in \u001b[0;36mpyarrow.lib.check_status\u001b[0;34m()\u001b[0m\n",
      "\u001b[0;31mArrowNotImplementedError\u001b[0m: JSON conversion to halffloat is not supported"
     ]
    }
   ],
   "source": [
    "json.read_json('../dataloader/523129_start.jsonl', parse_options=json.ParseOptions(explicit_schema=raw_schema))"
   ]
  },
  {
   "cell_type": "code",
   "execution_count": null,
   "metadata": {},
   "outputs": [],
   "source": []
  }
 ],
 "metadata": {
  "kernelspec": {
   "display_name": "pubchem_",
   "language": "python",
   "name": "python3"
  },
  "language_info": {
   "codemirror_mode": {
    "name": "ipython",
    "version": 3
   },
   "file_extension": ".py",
   "mimetype": "text/x-python",
   "name": "python",
   "nbconvert_exporter": "python",
   "pygments_lexer": "ipython3",
   "version": "3.11.3"
  },
  "orig_nbformat": 4
 },
 "nbformat": 4,
 "nbformat_minor": 2
}
