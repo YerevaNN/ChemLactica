{
 "cells": [
  {
   "cell_type": "code",
   "execution_count": 20,
   "metadata": {},
   "outputs": [],
   "source": [
    "from datasets import load_dataset\n",
    "from chemlactica.utils.dataset_utils import process_dataset, DIR_DATA_TYPES\n",
    "from chemlactica.jsonl_dataset import samples_generator\n",
    "from chemlactica.utils.utils import get_model_train_config\n",
    "from transformers import AutoModelForCausalLM, AutoTokenizer\n"
   ]
  },
  {
   "cell_type": "code",
   "execution_count": 21,
   "metadata": {},
   "outputs": [
    {
     "name": "stderr",
     "output_type": "stream",
     "text": [
      "Special tokens have been added in the vocabulary, make sure the associated word embeddings are fine-tuned or trained.\n"
     ]
    }
   ],
   "source": [
    "tokenizer = AutoTokenizer.from_pretrained('/auto/home/menuab/code/ChemLactica/chemlactica/tokenizer/ChemLacticaTokenizer66')"
   ]
  },
  {
   "cell_type": "code",
   "execution_count": 32,
   "metadata": {},
   "outputs": [
    {
     "name": "stderr",
     "output_type": "stream",
     "text": [
      "Map: 100%|██████████| 372445/372445 [00:24<00:00, 15480.01 examples/s]\n",
      "Map: 100%|██████████| 372445/372445 [00:38<00:00, 9663.54 examples/s] \n",
      "Map: 100%|██████████| 372445/372445 [01:29<00:00, 4183.38 examples/s]\n"
     ]
    }
   ],
   "source": [
    "model_config, train_config = get_model_train_config('gemma_2b_pretrain')\n",
    "# dataset = load_dataset(\"text\", data_files={\"train\": \"/nfs/ap/mnt/sxtn/rdkit_computed_rel+form/valid_rdkit_computed_rel+form/950001_start.jsonl\"}, \n",
    "dataset = load_dataset(\"text\", data_files={\"train\": \"/auto/home/menuab/small_train.json\"},\n",
    "                       streaming=False)\n",
    "dataset = process_dataset(\n",
    "    dataset=dataset,\n",
    "    train_config=train_config,\n",
    "    model_config=model_config,\n",
    "    process_batch_sizes=(50, 50),\n",
    "    is_eval=False,\n",
    "    assay=False,\n",
    ")"
   ]
  },
  {
   "cell_type": "code",
   "execution_count": 29,
   "metadata": {},
   "outputs": [
    {
     "data": {
      "text/plain": [
       "68630"
      ]
     },
     "execution_count": 29,
     "metadata": {},
     "output_type": "execute_result"
    }
   ],
   "source": [
    "len(dataset['train'])"
   ]
  },
  {
   "cell_type": "code",
   "execution_count": 30,
   "metadata": {},
   "outputs": [],
   "source": [
    "text=tokenizer.decode(next(iter(dataset['train']))['input_ids'])"
   ]
  },
  {
   "cell_type": "code",
   "execution_count": 31,
   "metadata": {},
   "outputs": [
    {
     "name": "stdout",
     "output_type": "stream",
     "text": [
      "</s>[NUMHACCEPTORS]6[/NUMHACCEPTORS][TPSA]66.93[/TPSA][NUMALIPHATICRINGS]1[/NUMALIPHATICRINGS][START_SMILES]CC(C)(C)NC(=\n",
      "O)Oc1ccc2ccc(OCCCCN3CCN(c4cccc(Cl)c4Cl)CC3)cc2n1[END_SMILES][NUMAROMATICHETEROCYCLES]1[/NUMAROMATICHETEROCYCLES][SAS]2.6\n",
      "2[/SAS][NHOHCOUNT]1[/NHOHCOUNT][FRACTIONCSP3]0.43[/FRACTIONCSP3][QED]0.33[/QED][NUMSATURATEDRINGS]1[/NUMSATURATEDRINGS][\n",
      "FORMULA]C28H34Cl2N4O3[/FORMULA][HEAVYATOMCOUNT]37[/HEAVYATOMCOUNT][NUMSATURATEDHETEROCYCLES]1[/NUMSATURATEDHETEROCYCLES]\n",
      "[IUPAC][7-[4-[4-(2,3-dichlorophenyl)piperazin-1-yl]butoxy]quinolin-2-yl] N-tert-butylcarbamate[/IUPAC][NUMAROMATICCARBOC\n",
      "YCLES]2[/NUMAROMATICCARBOCYCLES][SIMILAR]CCC(=O)OCOc1ccc2ccc(OCCCCN3CCN(c4cccc(Cl)c4Cl)CC3)cc2n1 0.74[/SIMILAR][SIMILAR]\n",
      "CC1CC(CNC(=O)OCOc2ccc3ccc(OCCCCN4CCN(c5cccc(Cl)c5Cl)CC4)cc3n2)C1 0.69[/SIMILAR][SIMILAR]CC(C)Oc1ccc2ccc(OCCCCN3CCN(c4ccc\n",
      "c(Cl)c4Cl)CC3)cc2n1 0.77[/SIMILAR][SIMILAR]CC(=O)OCOc1ccc2ccc(OCCCCN3CCN(c4cccc(Cl)c4Cl)CC3)cc2n1 0.76[/SIMILAR][SIMILAR\n",
      "]COC(=O)OCOc1ccc2ccc(OCCCCN3CCN(c4cccc(Cl)c4Cl)CC3)cc2n1 0.74[/SIMILAR][CLOGP]6.41[/CLOGP][NUMAROMATICRINGS]3[/NUMAROMAT\n",
      "ICRINGS][RINGCOUNT]4[/RINGCOUNT][NUMSATURATEDCARBOCYCLES]0[/NUMSATURATEDCARBOCYCLES][SYNONYM]SCHEMBL826903[/SYNONYM][NUM\n",
      "HETEROATOMS]9[/NUMHETEROATOMS][NOCOUNT]7[/NOCOUNT][NUMALIPHATICCARBOCYCLES]0[/NUMALIPHATICCARBOCYCLES][NUMHDONORS]1[/NUM\n",
      "HDONORS][WEIGHT]544.20[/WEIGHT][NUMALIPHATICHETEROCYCLES]1[/NUMALIPHATICHETEROCYCLES][NUMROTATABLEBONDS]8[/NUMROTATABLEB\n",
      "ONDS]</s>[START_SMILES]NC(=O)C(O)C(O)c1cccc(-c2ccc(Oc3ccc(C(F)(F)F)cn3)cc2)n1[END_SMILES][NUMSATURATEDRINGS]0[/NUMSATURA\n",
      "TEDRINGS][QED]0.57[/QED][HEAVYATOMCOUNT]30[/HEAVYATOMCOUNT][NUMALIPHATICRINGS]0[/NUMALIPHATICRINGS][NUMHACCEPTORS]6[/NUM\n",
      "HACCEPTORS][NUMHDONORS]3[/NUMHDONORS][IUPAC]2,3-dihydroxy-3-[6-[4-[5-(trifluoromethyl)pyridin-2-yl]oxyphenyl]pyridin-2-y\n",
      "l]propanamide[/IUPAC][SAS]3.28[/SAS][NUMALIPHATICCARBOCYCLES]0[/NUMALIPHATICCARBOCYCLES][NUMAROMATICCARBOCYCLES]1[/NUMAR\n",
      "OMATICCARBOCYCLES][RINGCOUNT]3[/RINGCOUNT][NHOHCOUNT]4[/NHOHCOUNT][NUMAROMATICRINGS]3[/NUMAROMATICRINGS][FORMULA]C20H16F\n",
      "3N3O4[/FORMULA][NUMALIPHATICHETEROCYCLES]0[/NUMALIPHATICHETEROCYCLES][WEIGHT]419.11[/WEIGHT][NUMROTATABLEBONDS]6[/NUMROT\n",
      "ATABLEBONDS][SIMILAR]NC(=O)C(O)C(O)c1cccc(-c2ccc(Oc3ccc(Cl)cn3)cc2)n1 0.79[/SIMILAR][SIMILAR]O=C(NCc1ccc(-c2ccccc2OC(F)(\n",
      "F)F)cn1)C(O)C(O)c1ccccn1 0.40[/SIMILAR][NOCOUNT]7[/NOCOUNT][TPSA]118.56[/TPSA][NUMHETEROATOMS]10[/NUMHETEROATOMS][FRACTI\n",
      "ONCSP3]0.15[/FRACTIONCSP3][CLOGP]2.83[/CLOGP][NUMSATURATEDCARBOCYCLES]0[/NUMSATURATEDCARBOCYCLES][NUMAROMATICHETEROCYCLE\n",
      "S]2[/NUMAROMATICHETEROCYCLES][NUMSATURATEDHETEROCYCLES]0[/NUMSATURATEDHETEROCYCLES]</s>[NUMAROMATICRINGS]2[/NUMAROMATICR\n",
      "INGS][NUMHACCEPTORS]6[/NUMHACCEPTORS][RINGCOUNT]5[/RINGCOUNT][NUMHETEROATOMS]9[/NUMHETEROATOMS][IUPAC]cyclopentyl-[(1R)-\n",
      "1-(hydroxymethyl)-7-methoxy-9-methyl-2-methylsulfonylspiro[1,3-dihydropyrido[3,4-b]indole-4,3'-azetidine]-1'-yl]methanon\n",
      "e[/IUPAC][NUMALIPHATICCARBOCYCLES]1[/NUMALIPHATICCARBOCYCLES][TPSA]92.08[/TPSA][NHOHCOUNT]1[/NHOHCOUNT][FRACTIONCSP3]0.6\n",
      "1[/FRACTIONCSP3][NUMAROMATICCARBOCYCLES]1[/NUMAROMATICCARBOCYCLES][SAS]3.81[/SAS][HEAVYATOMCOUNT]32[/HEAVYATOMCOUNT][NUM\n",
      "SATURATEDHETEROCYCLES]1[/NUMSATURATEDHETEROCYCLES][NUMAROMATICHETEROCYCLES]1[/NUMAROMATICHETEROCYCLES][NUMSATURATEDCARBO\n",
      "CYCLES]1[/NUMSATURATEDCARBOCYCLES][NUMALIPHATICRINGS]3[/NUMALIPHATICRINGS][NUMSATURATEDRINGS]2[/NUMSATURATEDRINGS][NUMAL\n",
      "IPHATICHETEROCYCLES]2[/NUMALIPHATICHETEROCYCLES][NOCOUNT]8[/NOCOUNT][SIMILAR]COc1ccc2c3c([nH]c2c1)C(CO)N(C(=O)C1CCOCC1)C\n",
      "C31CN(S(C)(=O)=O)C1 0.53[/SIMILAR][SIMILAR]COc1ccc2c3c(n(C)c2c1)C(CO)N(C(=O)C1CCC1)CC31CN(C)C1 0.68[/SIMILAR][SIMILAR]CC\n",
      "S(=O)(=O)N1CC2(CN(C)C(CO)c3c2c2ccc(OC)cc2n3C)C1 0.56[/SIMILAR][SIMILAR]CCCC(=O)N1CC2(C1)CN(C(=O)CC1CC1)C(CO)c1c2c2ccc(OC\n",
      ")cc2n1C 0.57[/SIMILAR][SIMILAR]COc1ccc2c3c(n(C)c2c1)C(CO)N(C(C)=O)CC31CCN(C(=O)C2CC2)CC1 0.61[/SIMILAR][SIMILAR]CCCC(=O)\n",
      "N1CC2(CN(S(=O)(=O)CC)C2)c2c(n(C)c3cc(OC)ccc23)C1CO 0.55[/SIMILAR][SIMILAR]COc1ccc2c3c(n(C)c2c1)C(CO)N(Cc1ccccc1OC)CC31CN\n",
      "(C(=O)C2CC2)C1 0.58[/SIMILAR][SIMILAR]CCC(=O)N1CC2(CN(C(=O)Cc3ccccc3)C2)c2c(n(C)c3cc(OC)ccc23)C1CO 0.48[/SIMILAR][SIMILA\n",
      "R]COc1ccc2c3c(n(C)c2c1)C(CO)N(C(=O)C1CCC1)CC31CN(Cc2cccc(F)c2)C1 0.55[/SIMILAR][SIMILAR]COc1ccc2c3c(n(C)c2c1)C(CO)N(S(C)\n",
      "(=O)=O)CC31CN(C(=O)C2CCC2)C1 0.93[/SIMILAR][SYNONYM]BRD-K24360824-001-01-7[/SYNONYM][WEIGHT]461.20[/WEIGHT][QED]0.75[/QE\n",
      "D][FORMULA]C23H31N3O5S[/FORMULA][NUMROTATABLEBONDS]4[/NUMROTATABLEBONDS][NUMHDONORS]1[/NUMHDONORS][START_SMILES]COc1ccc2\n",
      "c3c(n(C)c2c1)C(CO)N(S(C)(=O)=O)CC31CN(C(=O)C2CCCC2)C1[END_SMILES][CLOGP]1.77[/CLOGP]</s>[CLOGP]3.93[/CLOGP][NUMSATURATED\n",
      "RINGS]1[/NUMSATURATEDRINGS][NUMAROMATICRINGS]3[/NUMAROMATICRINGS][TPSA]72.18[/TPSA][NUMHACCEPTORS]6[/NUMHACCEPTORS][NOCO\n",
      "UNT]6[/NOCOUNT][IUPAC]4,4-difluoro-N-[6-methyl-3-(1,3-thiazol-2-yl)imidazo[1,2-b]pyridazin-2-yl]cyclohexane-1-carboxamid\n",
      "e[/IUPAC][FRACTIONCSP3]0.41[/FRACTIONCSP3][FORMULA]C17H17F2N5OS[/FORMULA][RINGCOUNT]4[/RINGCOUNT][NUMALIPHATICRINGS]1[/N\n",
      "UMALIPHATICRINGS][NUMALIPHATICHETEROCYCLES]0[/NUMALIPHATICHETEROCYCLES][SYNONYM]SCHEMBL1321459[/SYNONYM][NUMHDONORS]1[/N\n",
      "UMHDONORS][NUMAROMATICCARBOCYCLES]0[/NUMAROMATICCARBOCYCLES][START_SMILES]Cc1ccc2nc(NC(=O)C3CCC(F)(F)CC3)c(-c3nccs3)n2n1\n",
      "[END_SMILES][SAS]3.03[/SAS][NUMHETEROATOMS]9[/NUMHETEROATOMS][WEIGHT]377.11[/WEIGHT][NUMSATURATEDHETEROCYCLES]0[/NUMSATU\n",
      "RATEDHETEROCYCLES][NUMROTATABLEBONDS]3[/NUMROTATABLEBONDS][HEAVYATOMCOUNT]26[/HEAVYATOMCOUNT][NUMALIPHATICCARBOCYCLES]1[\n",
      "/NUMALIPHATICCARBOCYCLES][NHOHCOUNT]1[/NHOHCOUNT][QED]0.75[/QED][NUMAROMATICHETEROCYCLES]3[/NUMAROMATICHETEROCYCLES][NUM\n",
      "SATURATEDCARBOCYCLES]1[/NUMSATURATEDCARBOCYCLES]</s>[FORMULA]C12H12Cl2N4O2S[/FORMULA][CLOGP]2.42[/CLOGP][NUMAROMATICHETE\n",
      "ROCYCLES]2[/NUMAROMATICHETEROCYCLES][START_SMILES]Cc1nnc2n1CC(C(=O)O)N(Cc1cc(Cl)sc1Cl)C2[END_SMILES][FRACTIONCSP3]0.42[/\n",
      "FRACTIONCSP3][NUMHETEROATOMS]9[/NUMHETEROATOMS][SAS]3.60[/SAS][WEIGHT]346.01[/WEIGHT][NUMALIPHATICCARBOCYCLES]0[/NUMALIP\n",
      "HATICCARBOCYCLES][NUMHDONORS]1[/NUMHDONORS][NUMSATURATEDHETEROCYCLES]0[/NUMSATURATEDHETEROCYCLES][NUMAROMATICCARBOCYCLES\n",
      "]0[/NUMAROMATICCARBOCYCLES][NHOHCOUNT]1[/NHOHCOUNT][NUMALIPHATICHETEROCYCLES]1[/NUMALIPHATICHETEROCYCLES][RINGCOUNT]3[/R\n",
      "INGCOUNT][SYNONYM]AKOS027157990[/SYNONYM][NUMROTATABLEBONDS]3[/NUMROTATABLEBONDS][NOCOUNT]6[/NOCOUNT][NUMHACCEPTORS]6[/N\n",
      "UMHACCEPTORS][NUMAROMATICRINGS]2[/NUMAROMATICRINGS][QED]0.92[/QED][NUMSATURATEDRINGS]0[/NUMSATURATEDRINGS][TPSA]71.25[/T\n",
      "PSA][NUMSATURATEDCARBOCYCLES]0[/NUMSATURATEDCARBOCYCLES][NUMALIPHATICRINGS]1[/NUMALIPHATICRINGS][IUPAC]7-[(2,5-dichlorot\n",
      "hiophen-3-yl)methyl]-3-methyl-6,8-dihydro-5H-[1,2,4]triazolo[4,3-a]pyrazine-6-carboxylic acid[/IUPAC][HEAVYATOMCOUNT]21[\n",
      "/HEAVYATOMCOUNT]</s>[START_SMILES]Cc1ccc(C(=O)NCCn2nc(-c3ccc(F)cc3)cc2-c2cccnc2)c(=O)[nH]1[END_SMILES][TPSA]92.67[/TPSA]\n",
      "[NUMALIPHATICHETEROCYCLES]0[/NUMALIPHATICHETEROCYCLES][IUPAC]N-[2-[3-(4-fluorophenyl)-5-\n"
     ]
    }
   ],
   "source": [
    "for i in range(0, len(text), 120):\n",
    "    print(text[i:i+120])"
   ]
  },
  {
   "cell_type": "code",
   "execution_count": 7,
   "metadata": {},
   "outputs": [
    {
     "data": {
      "text/plain": [
       "63226"
      ]
     },
     "execution_count": 7,
     "metadata": {},
     "output_type": "execute_result"
    }
   ],
   "source": [
    "len(dataset['train'])"
   ]
  },
  {
   "cell_type": "code",
   "execution_count": null,
   "metadata": {},
   "outputs": [],
   "source": [
    "val_path = \"/nfs/ap/mnt/sxtn/rdkit_computed_rel+form/valid_rdkit_computed_rel+form\""
   ]
  }
 ],
 "metadata": {
  "kernelspec": {
   "display_name": "gemma_env_new",
   "language": "python",
   "name": "python3"
  },
  "language_info": {
   "codemirror_mode": {
    "name": "ipython",
    "version": 3
   },
   "file_extension": ".py",
   "mimetype": "text/x-python",
   "name": "python",
   "nbconvert_exporter": "python",
   "pygments_lexer": "ipython3",
   "version": "3.10.14"
  }
 },
 "nbformat": 4,
 "nbformat_minor": 2
}
