{
 "cells": [
  {
   "cell_type": "code",
   "execution_count": 9,
   "metadata": {},
   "outputs": [],
   "source": [
    "import torch\n",
    "from chemlactica.utils.model_utils import load_model\n",
    "from transformers import OPTForCausalLM\n",
    "from chemlactica.utils.utils import get_tokenizer"
   ]
  },
  {
   "cell_type": "code",
   "execution_count": 2,
   "metadata": {},
   "outputs": [
    {
     "name": "stderr",
     "output_type": "stream",
     "text": [
      "Special tokens have been added in the vocabulary, make sure the associated word embeddings are fine-tuned or trained.\n"
     ]
    },
    {
     "name": "stdout",
     "output_type": "stream",
     "text": [
      "Process 3400483 created a tokenizer\n"
     ]
    }
   ],
   "source": [
    "tokenizer = get_tokenizer(\"/auto/home/menuab/code/ChemLactica/chemlactica/tokenizer/ChemLacticaTokenizer66\")"
   ]
  },
  {
   "cell_type": "code",
   "execution_count": 16,
   "metadata": {},
   "outputs": [],
   "source": [
    "model_path = \"/auto/home/menuab/code/checkpoints/9954e52e400b43d18d3a40f6/125m_122k_9954\"\n",
    "# model = load_model(model_path, use_flash_attn=False, gradient_checkpointing=False, dtype=torch.float16).to('cuda').eval()\n",
    "model = OPTForCausalLM.from_pretrained(model_path, attn_implementation=\"eager\", torch_dtype=torch.float16).eval()\n"
   ]
  },
  {
   "cell_type": "code",
   "execution_count": null,
   "metadata": {},
   "outputs": [],
   "source": []
  }
 ],
 "metadata": {
  "kernelspec": {
   "display_name": "Python 3 (ipykernel)",
   "language": "python",
   "name": "python3"
  },
  "language_info": {
   "codemirror_mode": {
    "name": "ipython",
    "version": 3
   },
   "file_extension": ".py",
   "mimetype": "text/x-python",
   "name": "python",
   "nbconvert_exporter": "python",
   "pygments_lexer": "ipython3",
   "version": "3.10.14"
  }
 },
 "nbformat": 4,
 "nbformat_minor": 4
}
