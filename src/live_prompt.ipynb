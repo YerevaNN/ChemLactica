{
 "cells": [
  {
   "cell_type": "code",
   "execution_count": 1,
   "metadata": {},
   "outputs": [],
   "source": [
    "import os\n",
    "from transformers import AutoModelForCausalLM, AutoTokenizer"
   ]
  },
  {
   "cell_type": "code",
   "execution_count": 40,
   "metadata": {},
   "outputs": [],
   "source": [
    "base_path = '/mnt/sxtn/chem/ChemLactica/checkpoints/facebook/'\n",
    "model_size = 'galactica-125m'\n",
    "run_hash = '2ecf54c441824491a3baebbb'\n",
    "checkpoint_no = 'checkpoint-2048'"
   ]
  },
  {
   "cell_type": "code",
   "execution_count": 41,
   "metadata": {},
   "outputs": [],
   "source": [
    "run_hash = 'dff5ace8f2ac45cc9681ab6a'\n",
    "checkpoint_no = 'checkpoint-194560'\n",
    "checkpoint_path = os.path.join(base_path, model_size, run_hash, checkpoint_no)"
   ]
  },
  {
   "cell_type": "code",
   "execution_count": 42,
   "metadata": {},
   "outputs": [],
   "source": [
    "tokenizer = AutoTokenizer.from_pretrained('facebook/galactica-125m')\n",
    "model = AutoModelForCausalLM.from_pretrained(checkpoint_path)"
   ]
  },
  {
   "cell_type": "code",
   "execution_count": 96,
   "metadata": {},
   "outputs": [],
   "source": [
    "prompt = \"\"\"[QED 0.84][FRACTIONCSP3 0.38][RINGCOUNT 2][START_SMILES]\"\"\"\n",
    "#prompt = \"\"\"[START_SMILES] C1=NC(=C(N1C2C(C(C(O2)COP(=O)(O)O)O)O)N)C(=O)N [END_SMILES] [\"\"\"\n",
    "prompt = \"\"\"[SAS 4.32] [START_SMILES]\"\"\"\n",
    "# prompt = \"\"\"[NumHAcceptors\"\"\""
   ]
  },
  {
   "cell_type": "code",
   "execution_count": 97,
   "metadata": {},
   "outputs": [],
   "source": [
    "inputs = tokenizer(prompt, return_tensors=\"pt\").input_ids"
   ]
  },
  {
   "cell_type": "code",
   "execution_count": 98,
   "metadata": {},
   "outputs": [
    {
     "data": {
      "text/plain": [
       "['[SAS 4.32] [START_SMILES] CC1=C(C(=C(C(=C1C)C)C2=C(C(=C(C(=C2C)C)C3=C(C(=C(C(=C3C)C)C)C)C)C)C)C)C [END_SMILES][NUMAROMATICHETEROCYCLES 0][NUMALIPHATICCARBOCacetMILAR 0.56 CC1=CC(=C(C=C1)C)C(=C)C2=CC=CC=C2C][SIMILAR 0.56 CC1=CC(=C(C=C1)C)C(=C)C2=CC=CC=C2C][SIMILAR 0.56 CC1=CC(=C(C=C1)C)C(=C)C2=CC=CC=C2C][SIMILAR 0.56 CC1=CC(=C(C=C1)C)C(=C)C2=CC=CC=C2C][SIMILAR 0.56 CC1=CC(=C(C=C1)C)C(=C)C2=CC=CC=C2C][']"
      ]
     },
     "execution_count": 98,
     "metadata": {},
     "output_type": "execute_result"
    }
   ],
   "source": [
    "outputs = model.generate(inputs, max_new_tokens=300, do_sample=True, top_k=1, top_p=0.95)\n",
    "tokenizer.batch_decode(outputs, skip_special_tokens=False)"
   ]
  },
  {
   "cell_type": "code",
   "execution_count": 66,
   "metadata": {},
   "outputs": [
    {
     "name": "stdout",
     "output_type": "stream",
     "text": [
      "huggingface/tokenizers: The current process just got forked, after parallelism has already been used. Disabling parallelism to avoid deadlocks...\n",
      "To disable this warning, you can either:\n",
      "\t- Avoid using `tokenizers` before the fork if possible\n",
      "\t- Explicitly set the environment variable TOKENIZERS_PARALLELISM=(true | false)\n",
      "Collecting rdkit\n",
      "  Downloading rdkit-2023.3.3-cp38-cp38-manylinux_2_17_x86_64.manylinux2014_x86_64.whl (29.7 MB)\n",
      "\u001b[2K     \u001b[90m━━━━━━━━━━━━━━━━━━━━━━━━━━━━━━━━━━━━━━━━\u001b[0m \u001b[32m29.7/29.7 MB\u001b[0m \u001b[31m21.7 MB/s\u001b[0m eta \u001b[36m0:00:00\u001b[0m00:01\u001b[0m00:01\u001b[0m\n",
      "\u001b[?25hRequirement already satisfied: numpy in /home/menuab/miniconda3/envs/ChemLactica/lib/python3.8/site-packages (from rdkit) (1.24.4)\n",
      "Requirement already satisfied: Pillow in /home/menuab/miniconda3/envs/ChemLactica/lib/python3.8/site-packages (from rdkit) (9.5.0)\n",
      "Installing collected packages: rdkit\n",
      "Successfully installed rdkit-2023.3.3\n"
     ]
    }
   ],
   "source": []
  },
  {
   "cell_type": "code",
   "execution_count": 100,
   "metadata": {},
   "outputs": [
    {
     "name": "stdout",
     "output_type": "stream",
     "text": [
      "0.6666666666666666\n"
     ]
    }
   ],
   "source": [
    "import rdkit.Chem as Chem\n",
    "import sys\n",
    "from rdkit.Chem import RDConfig, MACCSkeys\n",
    "import numpy as np \n",
    "def tanimoto_similarity(smiles_1, smiles_2):\n",
    "    fgp1 = np.array(MACCSkeys.GenMACCSKeys(Chem.MolFromSmiles(smiles_1)))\n",
    "    fgp2 = np.array(MACCSkeys.GenMACCSKeys(Chem.MolFromSmiles(smiles_2)))\n",
    "\n",
    "    both = np.sum(fgp1 & fgp2)\n",
    "\n",
    "    return both / (np.sum(fgp1) + np.sum(fgp2) - both)\n",
    "sys.path.append(os.path.join(RDConfig.RDContribDir, 'SA_Score'))\n",
    "import sascorer\n",
    "mol_source = Chem.MolFromSmiles(\"CC1=C(C(=C(C(=C1C)C)C2=C(C(=C(C(=C2C)C)C3=C(C(=C(C(=C3C)C)C)C)C)C)C)C)C\")\n",
    "mol_second = Chem.MolFromSmiles(\"CC1=CC(=C(C=C1)C)C(=C)C2=CC=CC=C2C\")\n",
    "source_sas = sascorer.calculateScore(mol_source)\n",
    "print(tanimoto_similarity(\"CC1=C(C(=C(C(=C1C)C)C2=C(C(=C(C(=C2C)C)C3=C(C(=C(C(=C3C)C)C)C)C)C)C)C)C\",\"CC1=CC(=C(C=C1)C)C(=C)C2=CC=CC=C2C\"))"
   ]
  }
 ],
 "metadata": {
  "kernelspec": {
   "display_name": "live-prompt-kernel",
   "language": "python",
   "name": "live-prompt-kernel"
  },
  "language_info": {
   "codemirror_mode": {
    "name": "ipython",
    "version": 3
   },
   "file_extension": ".py",
   "mimetype": "text/x-python",
   "name": "python",
   "nbconvert_exporter": "python",
   "pygments_lexer": "ipython3",
   "version": "3.8.16"
  }
 },
 "nbformat": 4,
 "nbformat_minor": 2
}
