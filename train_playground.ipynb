{
 "cells": [
  {
   "cell_type": "code",
   "execution_count": 18,
   "metadata": {},
   "outputs": [],
   "source": [
    "import transformers\n",
    "from transformers import AutoTokenizer\n",
    "from transformers import AutoModelForCausalLM\n",
    "from transformers import Trainer, TrainingArguments\n",
    "from datasets import load_dataset"
   ]
  },
  {
   "cell_type": "code",
   "execution_count": 16,
   "metadata": {},
   "outputs": [],
   "source": [
    "model_checkpoint = \"facebook/galactica-125m\"\n",
    "\n",
    "model = AutoModelForCausalLM.from_pretrained(model_checkpoint)\n",
    "tokenizer = AutoTokenizer.from_pretrained(model_checkpoint)\n",
    "\n",
    "def process_str(str):\n",
    "    str['text'] = str['text'].replace('\\\\','')\n",
    "    return str \n",
    "\n",
    "dataset = load_dataset(\"text\", data_files='./523129_start.jsonl', split='train', streaming=True)\n",
    "dataset = dataset.map(process_str)\n",
    "\n",
    "def tokenize_function(examples):\n",
    "    return tokenizer(examples[\"text\"])\n",
    "\n",
    "\n",
    "tokenized_datasets = dataset.map(tokenize_function, batched=True)\n",
    "\n",
    "model_name = model_checkpoint.split(\"/\")[-1]\n",
    "training_args = TrainingArguments(\n",
    "    f\"{model_name}-finetuned-pubchem\",\n",
    "    evaluation_strategy = \"epoch\",\n",
    "    learning_rate=2e-5,\n",
    "    weight_decay=0.01,\n",
    "    max_steps=2\n",
    ")\n",
    "\n",
    "trainer = Trainer(\n",
    "    model=model,\n",
    "    args=training_args,\n",
    "    train_dataset=dataset,\n",
    "    # eval_dataset=lm_datasets[\"validation\"],\n",
    ")\n",
    "\n",
    "trainer.train()"
   ]
  },
  {
   "cell_type": "code",
   "execution_count": null,
   "metadata": {},
   "outputs": [],
   "source": []
  },
  {
   "cell_type": "code",
   "execution_count": 69,
   "metadata": {},
   "outputs": [],
   "source": [
    "import pyarrow as pa\n",
    "from pyarrow import json\n",
    "    \n",
    "raw_schema = pa.schema([\n",
    "    pa.field('SomeDecimal', pa.string())\n",
    "])"
   ]
  },
  {
   "cell_type": "code",
   "execution_count": 82,
   "metadata": {},
   "outputs": [],
   "source": [
    "schema = {'synonyms': [{'name': 'p-Phenylazo carbanilic acid, n-hexyl ester'}],\n",
    " 'related': [{'SMILES': 'CCCCOC(=O)NC1=CC=C(C=C1)N', 'similarity': 0.74}],\n",
    " 'experimental': [],\n",
    " 'CID': 523129,\n",
    " 'SMILES': 'CCCCCCOC(=O)NC1=CC=C(C=C1)N=NC2=CC=CC=C2',\n",
    " 'SAS': 2.09,\n",
    " 'WEIGHT': 325.18,\n",
    " 'TPSA': 63.05,\n",
    " 'CLOGP': 6.23,\n",
    " 'QED': 0.46,\n",
    " 'NUMHDONORS': 1,\n",
    " 'NUMHACCEPTORS': 4,\n",
    " 'NUMHETEROATOMS': 5,\n",
    " 'NUMROTATABLEBONDS': 8,\n",
    " 'NOCOUNT': 5,\n",
    " 'NHOHCOUNT': 1,\n",
    " 'RINGCOUNT': 2,\n",
    " 'HEAVYATOMCOUNT': 24,\n",
    " 'FRACTIONCSP3': 0.32,\n",
    " 'NUMAROMATICRINGS': 2,\n",
    " 'NUMSATURATEDRINGS': 0,\n",
    " 'NUMAROMATICHETEROCYCLES': 0,\n",
    " 'NUMAROMATICCARBOCYCLES': 2,\n",
    " 'NUMSATURATEDHETEROCYCLES': 0,\n",
    " 'NUMSATURATEDCARBOCYCLES': 0,\n",
    " 'NUMALIPHATICRINGS': 0,\n",
    " 'NUMALIPHATICHETEROCYCLES': 0,\n",
    " 'NUMALIPHATICCARBOCYCLES': 0,\n",
    " 'IUPAC': 'hexyl N-(4-phenyldiazenylphenyl)carbamate'}"
   ]
  },
  {
   "cell_type": "code",
   "execution_count": 89,
   "metadata": {},
   "outputs": [],
   "source": [
    "s = pa.array(schema)"
   ]
  },
  {
   "cell_type": "code",
   "execution_count": 93,
   "metadata": {},
   "outputs": [
    {
     "ename": "TypeError",
     "evalue": "'str' object cannot be interpreted as an integer",
     "output_type": "error",
     "traceback": [
      "\u001b[0;31m---------------------------------------------------------------------------\u001b[0m",
      "\u001b[0;31mTypeError\u001b[0m                                 Traceback (most recent call last)",
      "Cell \u001b[0;32mIn[93], line 1\u001b[0m\n\u001b[0;32m----> 1\u001b[0m s[\u001b[39m'\u001b[39;49m\u001b[39mTSPA\u001b[39;49m\u001b[39m'\u001b[39;49m]\n",
      "File \u001b[0;32m~/miniconda3/envs/pubchem/lib/python3.11/site-packages/pyarrow/array.pxi:1315\u001b[0m, in \u001b[0;36mpyarrow.lib.Array.__getitem__\u001b[0;34m()\u001b[0m\n",
      "\u001b[0;31mTypeError\u001b[0m: 'str' object cannot be interpreted as an integer"
     ]
    }
   ],
   "source": []
  },
  {
   "cell_type": "code",
   "execution_count": 95,
   "metadata": {},
   "outputs": [],
   "source": [
    "l=[]\n",
    "for k,v in schema.items():\n",
    "    f = k\n",
    "    if isinstance(v,list):\n",
    "        s = pa.list_(pa.dictionary(pa.int16(),pa.string()))\n",
    "    elif isinstance(v, str):\n",
    "        s = pa.string()\n",
    "    else:\n",
    "        s = pa.float16()\n",
    "\n",
    "    l.append(pa.field(f,s))"
   ]
  },
  {
   "cell_type": "code",
   "execution_count": 84,
   "metadata": {},
   "outputs": [],
   "source": [
    "raw_schema = pa.schema(l)"
   ]
  },
  {
   "cell_type": "code",
   "execution_count": 85,
   "metadata": {},
   "outputs": [
    {
     "data": {
      "text/plain": [
       "synonyms: list<item: dictionary<values=string, indices=int16, ordered=0>>\n",
       "  child 0, item: dictionary<values=string, indices=int16, ordered=0>\n",
       "related: list<item: dictionary<values=string, indices=int16, ordered=0>>\n",
       "  child 0, item: dictionary<values=string, indices=int16, ordered=0>\n",
       "experimental: list<item: dictionary<values=string, indices=int16, ordered=0>>\n",
       "  child 0, item: dictionary<values=string, indices=int16, ordered=0>\n",
       "CID: halffloat\n",
       "SMILES: string\n",
       "SAS: halffloat\n",
       "WEIGHT: halffloat\n",
       "TPSA: halffloat\n",
       "CLOGP: halffloat\n",
       "QED: halffloat\n",
       "NUMHDONORS: halffloat\n",
       "NUMHACCEPTORS: halffloat\n",
       "NUMHETEROATOMS: halffloat\n",
       "NUMROTATABLEBONDS: halffloat\n",
       "NOCOUNT: halffloat\n",
       "NHOHCOUNT: halffloat\n",
       "RINGCOUNT: halffloat\n",
       "HEAVYATOMCOUNT: halffloat\n",
       "FRACTIONCSP3: halffloat\n",
       "NUMAROMATICRINGS: halffloat\n",
       "NUMSATURATEDRINGS: halffloat\n",
       "NUMAROMATICHETEROCYCLES: halffloat\n",
       "NUMAROMATICCARBOCYCLES: halffloat\n",
       "NUMSATURATEDHETEROCYCLES: halffloat\n",
       "NUMSATURATEDCARBOCYCLES: halffloat\n",
       "NUMALIPHATICRINGS: halffloat\n",
       "NUMALIPHATICHETEROCYCLES: halffloat\n",
       "NUMALIPHATICCARBOCYCLES: halffloat\n",
       "IUPAC: string"
      ]
     },
     "execution_count": 85,
     "metadata": {},
     "output_type": "execute_result"
    }
   ],
   "source": [
    "raw_schema"
   ]
  },
  {
   "cell_type": "code",
   "execution_count": 81,
   "metadata": {},
   "outputs": [
    {
     "ename": "ArrowNotImplementedError",
     "evalue": "JSON conversion to halffloat is not supported",
     "output_type": "error",
     "traceback": [
      "\u001b[0;31m---------------------------------------------------------------------------\u001b[0m",
      "\u001b[0;31mArrowNotImplementedError\u001b[0m                  Traceback (most recent call last)",
      "Cell \u001b[0;32mIn[81], line 1\u001b[0m\n\u001b[0;32m----> 1\u001b[0m json\u001b[39m.\u001b[39;49mread_json(\u001b[39m'\u001b[39;49m\u001b[39m../dataloader/523129_start.jsonl\u001b[39;49m\u001b[39m'\u001b[39;49m, parse_options\u001b[39m=\u001b[39;49mjson\u001b[39m.\u001b[39;49mParseOptions(explicit_schema\u001b[39m=\u001b[39;49mraw_schema))\n",
      "File \u001b[0;32m~/miniconda3/envs/pubchem/lib/python3.11/site-packages/pyarrow/_json.pyx:258\u001b[0m, in \u001b[0;36mpyarrow._json.read_json\u001b[0;34m()\u001b[0m\n",
      "File \u001b[0;32m~/miniconda3/envs/pubchem/lib/python3.11/site-packages/pyarrow/error.pxi:144\u001b[0m, in \u001b[0;36mpyarrow.lib.pyarrow_internal_check_status\u001b[0;34m()\u001b[0m\n",
      "File \u001b[0;32m~/miniconda3/envs/pubchem/lib/python3.11/site-packages/pyarrow/error.pxi:121\u001b[0m, in \u001b[0;36mpyarrow.lib.check_status\u001b[0;34m()\u001b[0m\n",
      "\u001b[0;31mArrowNotImplementedError\u001b[0m: JSON conversion to halffloat is not supported"
     ]
    }
   ],
   "source": [
    "json.read_json('../dataloader/523129_start.jsonl', parse_options=json.ParseOptions(explicit_schema=raw_schema))"
   ]
  },
  {
   "cell_type": "code",
   "execution_count": null,
   "metadata": {},
   "outputs": [],
   "source": []
  }
 ],
 "metadata": {
  "kernelspec": {
   "display_name": "pubchem_",
   "language": "python",
   "name": "python3"
  },
  "language_info": {
   "codemirror_mode": {
    "name": "ipython",
    "version": 3
   },
   "file_extension": ".py",
   "mimetype": "text/x-python",
   "name": "python",
   "nbconvert_exporter": "python",
   "pygments_lexer": "ipython3",
   "version": "3.11.3"
  },
  "orig_nbformat": 4
 },
 "nbformat": 4,
 "nbformat_minor": 2
}
