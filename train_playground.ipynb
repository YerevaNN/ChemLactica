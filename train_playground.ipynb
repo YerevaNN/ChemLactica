{
 "cells": [
  {
   "cell_type": "code",
   "execution_count": 1,
   "metadata": {},
   "outputs": [
    {
     "name": "stderr",
     "output_type": "stream",
     "text": [
      "/home/menuab/miniconda3/envs/pubchem/lib/python3.11/site-packages/tqdm/auto.py:21: TqdmWarning: IProgress not found. Please update jupyter and ipywidgets. See https://ipywidgets.readthedocs.io/en/stable/user_install.html\n",
      "  from .autonotebook import tqdm as notebook_tqdm\n"
     ]
    }
   ],
   "source": [
    "import transformers\n",
    "from transformers import AutoTokenizer\n",
    "from transformers import AutoModelForCausalLM\n",
    "from transformers import Trainer, TrainingArguments\n",
    "from datasets import load_dataset"
   ]
  },
  {
   "cell_type": "code",
   "execution_count": 2,
   "metadata": {},
   "outputs": [
    {
     "name": "stderr",
     "output_type": "stream",
     "text": [
      "Downloading model.safetensors: 100%|██████████| 250M/250M [00:13<00:00, 17.9MB/s] \n"
     ]
    }
   ],
   "source": [
    "model_checkpoint = \"facebook/galactica-125m\"\n",
    "block_size = 128\n",
    "\n",
    "model = AutoModelForCausalLM.from_pretrained(model_checkpoint)\n",
    "tokenizer = AutoTokenizer.from_pretrained(model_checkpoint)\n",
    "\n",
    "def process_str(str):\n",
    "    str['text'] = str['text'].replace('\\\\','')\n",
    "    return str \n",
    "\n",
    "dataset = load_dataset(\"text\", data_files={\"train\": './train.jsonl', \"validation\": './evaluation.jsonl'}, streaming=True)\n",
    "dataset = dataset.map(process_str)\n",
    "\n",
    "def tokenize_function(examples):\n",
    "    return tokenizer(examples[\"text\"])\n",
    "\n",
    "tokenized_datasets = dataset.map(tokenize_function, batched=True, remove_columns=[\"text\"])\n",
    "\n",
    "def group_texts(examples):\n",
    "    # Concatenate all texts.\n",
    "    concatenated_examples = {k: sum(examples[k], []) for k in examples.keys()}\n",
    "    total_length = len(concatenated_examples[list(examples.keys())[0]])\n",
    "    # We drop the small remainder, we could add padding if the model supported it instead of this drop, you can\n",
    "        # customize this part to your needs.\n",
    "    total_length = (total_length // block_size) * block_size\n",
    "    # Split by chunks of max_len.\n",
    "    result = {\n",
    "        k: [t[i : i + block_size] for i in range(0, total_length, block_size)]\n",
    "        for k, t in concatenated_examples.items()\n",
    "    }\n",
    "    result[\"labels\"] = result[\"input_ids\"].copy()\n",
    "    return result\n",
    "\n",
    "lm_datasets = tokenized_datasets.map(\n",
    "    group_texts,\n",
    "    batched=True,\n",
    "    batch_size=1000,\n",
    ")\n",
    "\n",
    "model_name = model_checkpoint.split(\"/\")[-1]\n",
    "training_args = TrainingArguments(\n",
    "    f\"{model_name}-finetuned-pubchem\",\n",
    "    evaluation_strategy = \"epoch\",\n",
    "    learning_rate=2e-5,\n",
    "    weight_decay=0.01,\n",
    "    max_steps=2\n",
    ")\n",
    "\n"
   ]
  },
  {
   "cell_type": "code",
   "execution_count": 5,
   "metadata": {},
   "outputs": [
    {
     "name": "stderr",
     "output_type": "stream",
     "text": [
      "/home/menuab/miniconda3/envs/pubchem/lib/python3.11/site-packages/transformers/optimization.py:411: FutureWarning: This implementation of AdamW is deprecated and will be removed in a future version. Use the PyTorch implementation torch.optim.AdamW instead, or set `no_deprecation_warning=True` to disable this warning\n",
      "  warnings.warn(\n",
      "/home/menuab/miniconda3/envs/pubchem/lib/python3.11/site-packages/torch/nn/parallel/_functions.py:68: UserWarning: Was asked to gather along dimension 0, but all input tensors were scalars; will instead unsqueeze and return a vector.\n",
      "  warnings.warn('Was asked to gather along dimension 0, but all '\n"
     ]
    },
    {
     "data": {
      "text/html": [
       "\n",
       "    <div>\n",
       "      \n",
       "      <progress value='2' max='2' style='width:300px; height:20px; vertical-align: middle;'></progress>\n",
       "      [2/2 01:25, Epoch 1/9223372036854775807]\n",
       "    </div>\n",
       "    <table border=\"1\" class=\"dataframe\">\n",
       "  <thead>\n",
       " <tr style=\"text-align: left;\">\n",
       "      <th>Epoch</th>\n",
       "      <th>Training Loss</th>\n",
       "      <th>Validation Loss</th>\n",
       "    </tr>\n",
       "  </thead>\n",
       "  <tbody>\n",
       "    <tr>\n",
       "      <td>1</td>\n",
       "      <td>No log</td>\n",
       "      <td>1.623429</td>\n",
       "    </tr>\n",
       "  </tbody>\n",
       "</table><p>"
      ],
      "text/plain": [
       "<IPython.core.display.HTML object>"
      ]
     },
     "metadata": {},
     "output_type": "display_data"
    },
    {
     "data": {
      "text/plain": [
       "TrainOutput(global_step=2, training_loss=2.262911796569824, metrics={'train_runtime': 92.3246, 'train_samples_per_second': 0.347, 'train_steps_per_second': 0.022, 'total_flos': 2090336256000.0, 'train_loss': 2.262911796569824, 'epoch': 1.0})"
      ]
     },
     "execution_count": 5,
     "metadata": {},
     "output_type": "execute_result"
    }
   ],
   "source": [
    "trainer = Trainer(\n",
    "    model=model,\n",
    "    args=training_args,\n",
    "    train_dataset=lm_datasets['train'],\n",
    "    eval_dataset=lm_datasets[\"validation\"],\n",
    ")\n",
    "\n",
    "trainer.train()"
   ]
  },
  {
   "cell_type": "code",
   "execution_count": 69,
   "metadata": {},
   "outputs": [],
   "source": [
    "import pyarrow as pa\n",
    "from pyarrow import json\n",
    "    \n",
    "raw_schema = pa.schema([\n",
    "    pa.field('SomeDecimal', pa.string())\n",
    "])"
   ]
  },
  {
   "cell_type": "code",
   "execution_count": 82,
   "metadata": {},
   "outputs": [],
   "source": [
    "schema = {'synonyms': [{'name': 'p-Phenylazo carbanilic acid, n-hexyl ester'}],\n",
    " 'related': [{'SMILES': 'CCCCOC(=O)NC1=CC=C(C=C1)N', 'similarity': 0.74}],\n",
    " 'experimental': [],\n",
    " 'CID': 523129,\n",
    " 'SMILES': 'CCCCCCOC(=O)NC1=CC=C(C=C1)N=NC2=CC=CC=C2',\n",
    " 'SAS': 2.09,\n",
    " 'WEIGHT': 325.18,\n",
    " 'TPSA': 63.05,\n",
    " 'CLOGP': 6.23,\n",
    " 'QED': 0.46,\n",
    " 'NUMHDONORS': 1,\n",
    " 'NUMHACCEPTORS': 4,\n",
    " 'NUMHETEROATOMS': 5,\n",
    " 'NUMROTATABLEBONDS': 8,\n",
    " 'NOCOUNT': 5,\n",
    " 'NHOHCOUNT': 1,\n",
    " 'RINGCOUNT': 2,\n",
    " 'HEAVYATOMCOUNT': 24,\n",
    " 'FRACTIONCSP3': 0.32,\n",
    " 'NUMAROMATICRINGS': 2,\n",
    " 'NUMSATURATEDRINGS': 0,\n",
    " 'NUMAROMATICHETEROCYCLES': 0,\n",
    " 'NUMAROMATICCARBOCYCLES': 2,\n",
    " 'NUMSATURATEDHETEROCYCLES': 0,\n",
    " 'NUMSATURATEDCARBOCYCLES': 0,\n",
    " 'NUMALIPHATICRINGS': 0,\n",
    " 'NUMALIPHATICHETEROCYCLES': 0,\n",
    " 'NUMALIPHATICCARBOCYCLES': 0,\n",
    " 'IUPAC': 'hexyl N-(4-phenyldiazenylphenyl)carbamate'}"
   ]
  },
  {
   "cell_type": "code",
   "execution_count": 89,
   "metadata": {},
   "outputs": [],
   "source": [
    "s = pa.array(schema)"
   ]
  },
  {
   "cell_type": "code",
   "execution_count": 93,
   "metadata": {},
   "outputs": [
    {
     "ename": "TypeError",
     "evalue": "'str' object cannot be interpreted as an integer",
     "output_type": "error",
     "traceback": [
      "\u001b[0;31m---------------------------------------------------------------------------\u001b[0m",
      "\u001b[0;31mTypeError\u001b[0m                                 Traceback (most recent call last)",
      "Cell \u001b[0;32mIn[93], line 1\u001b[0m\n\u001b[0;32m----> 1\u001b[0m s[\u001b[39m'\u001b[39;49m\u001b[39mTSPA\u001b[39;49m\u001b[39m'\u001b[39;49m]\n",
      "File \u001b[0;32m~/miniconda3/envs/pubchem/lib/python3.11/site-packages/pyarrow/array.pxi:1315\u001b[0m, in \u001b[0;36mpyarrow.lib.Array.__getitem__\u001b[0;34m()\u001b[0m\n",
      "\u001b[0;31mTypeError\u001b[0m: 'str' object cannot be interpreted as an integer"
     ]
    }
   ],
   "source": []
  },
  {
   "cell_type": "code",
   "execution_count": 95,
   "metadata": {},
   "outputs": [],
   "source": [
    "l=[]\n",
    "for k,v in schema.items():\n",
    "    f = k\n",
    "    if isinstance(v,list):\n",
    "        s = pa.list_(pa.dictionary(pa.int16(),pa.string()))\n",
    "    elif isinstance(v, str):\n",
    "        s = pa.string()\n",
    "    else:\n",
    "        s = pa.float16()\n",
    "\n",
    "    l.append(pa.field(f,s))"
   ]
  },
  {
   "cell_type": "code",
   "execution_count": 84,
   "metadata": {},
   "outputs": [],
   "source": [
    "raw_schema = pa.schema(l)"
   ]
  },
  {
   "cell_type": "code",
   "execution_count": 85,
   "metadata": {},
   "outputs": [
    {
     "data": {
      "text/plain": [
       "synonyms: list<item: dictionary<values=string, indices=int16, ordered=0>>\n",
       "  child 0, item: dictionary<values=string, indices=int16, ordered=0>\n",
       "related: list<item: dictionary<values=string, indices=int16, ordered=0>>\n",
       "  child 0, item: dictionary<values=string, indices=int16, ordered=0>\n",
       "experimental: list<item: dictionary<values=string, indices=int16, ordered=0>>\n",
       "  child 0, item: dictionary<values=string, indices=int16, ordered=0>\n",
       "CID: halffloat\n",
       "SMILES: string\n",
       "SAS: halffloat\n",
       "WEIGHT: halffloat\n",
       "TPSA: halffloat\n",
       "CLOGP: halffloat\n",
       "QED: halffloat\n",
       "NUMHDONORS: halffloat\n",
       "NUMHACCEPTORS: halffloat\n",
       "NUMHETEROATOMS: halffloat\n",
       "NUMROTATABLEBONDS: halffloat\n",
       "NOCOUNT: halffloat\n",
       "NHOHCOUNT: halffloat\n",
       "RINGCOUNT: halffloat\n",
       "HEAVYATOMCOUNT: halffloat\n",
       "FRACTIONCSP3: halffloat\n",
       "NUMAROMATICRINGS: halffloat\n",
       "NUMSATURATEDRINGS: halffloat\n",
       "NUMAROMATICHETEROCYCLES: halffloat\n",
       "NUMAROMATICCARBOCYCLES: halffloat\n",
       "NUMSATURATEDHETEROCYCLES: halffloat\n",
       "NUMSATURATEDCARBOCYCLES: halffloat\n",
       "NUMALIPHATICRINGS: halffloat\n",
       "NUMALIPHATICHETEROCYCLES: halffloat\n",
       "NUMALIPHATICCARBOCYCLES: halffloat\n",
       "IUPAC: string"
      ]
     },
     "execution_count": 85,
     "metadata": {},
     "output_type": "execute_result"
    }
   ],
   "source": [
    "raw_schema"
   ]
  },
  {
   "cell_type": "code",
   "execution_count": 81,
   "metadata": {},
   "outputs": [
    {
     "ename": "ArrowNotImplementedError",
     "evalue": "JSON conversion to halffloat is not supported",
     "output_type": "error",
     "traceback": [
      "\u001b[0;31m---------------------------------------------------------------------------\u001b[0m",
      "\u001b[0;31mArrowNotImplementedError\u001b[0m                  Traceback (most recent call last)",
      "Cell \u001b[0;32mIn[81], line 1\u001b[0m\n\u001b[0;32m----> 1\u001b[0m json\u001b[39m.\u001b[39;49mread_json(\u001b[39m'\u001b[39;49m\u001b[39m../dataloader/523129_start.jsonl\u001b[39;49m\u001b[39m'\u001b[39;49m, parse_options\u001b[39m=\u001b[39;49mjson\u001b[39m.\u001b[39;49mParseOptions(explicit_schema\u001b[39m=\u001b[39;49mraw_schema))\n",
      "File \u001b[0;32m~/miniconda3/envs/pubchem/lib/python3.11/site-packages/pyarrow/_json.pyx:258\u001b[0m, in \u001b[0;36mpyarrow._json.read_json\u001b[0;34m()\u001b[0m\n",
      "File \u001b[0;32m~/miniconda3/envs/pubchem/lib/python3.11/site-packages/pyarrow/error.pxi:144\u001b[0m, in \u001b[0;36mpyarrow.lib.pyarrow_internal_check_status\u001b[0;34m()\u001b[0m\n",
      "File \u001b[0;32m~/miniconda3/envs/pubchem/lib/python3.11/site-packages/pyarrow/error.pxi:121\u001b[0m, in \u001b[0;36mpyarrow.lib.check_status\u001b[0;34m()\u001b[0m\n",
      "\u001b[0;31mArrowNotImplementedError\u001b[0m: JSON conversion to halffloat is not supported"
     ]
    }
   ],
   "source": [
    "json.read_json('../dataloader/523129_start.jsonl', parse_options=json.ParseOptions(explicit_schema=raw_schema))"
   ]
  },
  {
   "cell_type": "code",
   "execution_count": null,
   "metadata": {},
   "outputs": [],
   "source": []
  }
 ],
 "metadata": {
  "kernelspec": {
   "display_name": "pubchem_",
   "language": "python",
   "name": "python3"
  },
  "language_info": {
   "codemirror_mode": {
    "name": "ipython",
    "version": 3
   },
   "file_extension": ".py",
   "mimetype": "text/x-python",
   "name": "python",
   "nbconvert_exporter": "python",
   "pygments_lexer": "ipython3",
   "version": "3.11.3"
  },
  "orig_nbformat": 4
 },
 "nbformat": 4,
 "nbformat_minor": 2
}
